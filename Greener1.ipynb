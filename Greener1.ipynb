{
 "cells": [
  {
   "cell_type": "code",
   "execution_count": 1,
   "id": "d724df1d",
   "metadata": {},
   "outputs": [
    {
     "name": "stderr",
     "output_type": "stream",
     "text": [
      "C:\\ProgramData\\Anaconda3\\lib\\site-packages\\scipy\\__init__.py:146: UserWarning: A NumPy version >=1.16.5 and <1.23.0 is required for this version of SciPy (detected version 1.23.1\n",
      "  warnings.warn(f\"A NumPy version >={np_minversion} and <{np_maxversion}\"\n"
     ]
    }
   ],
   "source": [
    "import numpy as np\n",
    "import pandas as pd\n",
    "import matplotlib.pyplot as plt\n",
    "import seaborn as sns\n",
    "%matplotlib inline"
   ]
  },
  {
   "cell_type": "code",
   "execution_count": 2,
   "id": "adc4a103",
   "metadata": {},
   "outputs": [],
   "source": [
    "import warnings\n",
    "warnings.filterwarnings(\"ignore\")"
   ]
  },
  {
   "cell_type": "code",
   "execution_count": 3,
   "id": "4a3d534d",
   "metadata": {},
   "outputs": [],
   "source": [
    "train = pd.read_csv('train.csv')"
   ]
  },
  {
   "cell_type": "code",
   "execution_count": 4,
   "id": "572a334c",
   "metadata": {},
   "outputs": [],
   "source": [
    "test = pd.read_csv('test.csv')"
   ]
  },
  {
   "cell_type": "code",
   "execution_count": 5,
   "id": "999a9be1",
   "metadata": {},
   "outputs": [
    {
     "data": {
      "text/html": [
       "<div>\n",
       "<style scoped>\n",
       "    .dataframe tbody tr th:only-of-type {\n",
       "        vertical-align: middle;\n",
       "    }\n",
       "\n",
       "    .dataframe tbody tr th {\n",
       "        vertical-align: top;\n",
       "    }\n",
       "\n",
       "    .dataframe thead th {\n",
       "        text-align: right;\n",
       "    }\n",
       "</style>\n",
       "<table border=\"1\" class=\"dataframe\">\n",
       "  <thead>\n",
       "    <tr style=\"text-align: right;\">\n",
       "      <th></th>\n",
       "      <th>ID</th>\n",
       "      <th>y</th>\n",
       "      <th>X0</th>\n",
       "      <th>X1</th>\n",
       "      <th>X2</th>\n",
       "      <th>X3</th>\n",
       "      <th>X4</th>\n",
       "      <th>X5</th>\n",
       "      <th>X6</th>\n",
       "      <th>X8</th>\n",
       "      <th>...</th>\n",
       "      <th>X375</th>\n",
       "      <th>X376</th>\n",
       "      <th>X377</th>\n",
       "      <th>X378</th>\n",
       "      <th>X379</th>\n",
       "      <th>X380</th>\n",
       "      <th>X382</th>\n",
       "      <th>X383</th>\n",
       "      <th>X384</th>\n",
       "      <th>X385</th>\n",
       "    </tr>\n",
       "  </thead>\n",
       "  <tbody>\n",
       "    <tr>\n",
       "      <th>0</th>\n",
       "      <td>0</td>\n",
       "      <td>130.81</td>\n",
       "      <td>k</td>\n",
       "      <td>v</td>\n",
       "      <td>at</td>\n",
       "      <td>a</td>\n",
       "      <td>d</td>\n",
       "      <td>u</td>\n",
       "      <td>j</td>\n",
       "      <td>o</td>\n",
       "      <td>...</td>\n",
       "      <td>0</td>\n",
       "      <td>0</td>\n",
       "      <td>1</td>\n",
       "      <td>0</td>\n",
       "      <td>0</td>\n",
       "      <td>0</td>\n",
       "      <td>0</td>\n",
       "      <td>0</td>\n",
       "      <td>0</td>\n",
       "      <td>0</td>\n",
       "    </tr>\n",
       "    <tr>\n",
       "      <th>1</th>\n",
       "      <td>6</td>\n",
       "      <td>88.53</td>\n",
       "      <td>k</td>\n",
       "      <td>t</td>\n",
       "      <td>av</td>\n",
       "      <td>e</td>\n",
       "      <td>d</td>\n",
       "      <td>y</td>\n",
       "      <td>l</td>\n",
       "      <td>o</td>\n",
       "      <td>...</td>\n",
       "      <td>1</td>\n",
       "      <td>0</td>\n",
       "      <td>0</td>\n",
       "      <td>0</td>\n",
       "      <td>0</td>\n",
       "      <td>0</td>\n",
       "      <td>0</td>\n",
       "      <td>0</td>\n",
       "      <td>0</td>\n",
       "      <td>0</td>\n",
       "    </tr>\n",
       "    <tr>\n",
       "      <th>2</th>\n",
       "      <td>7</td>\n",
       "      <td>76.26</td>\n",
       "      <td>az</td>\n",
       "      <td>w</td>\n",
       "      <td>n</td>\n",
       "      <td>c</td>\n",
       "      <td>d</td>\n",
       "      <td>x</td>\n",
       "      <td>j</td>\n",
       "      <td>x</td>\n",
       "      <td>...</td>\n",
       "      <td>0</td>\n",
       "      <td>0</td>\n",
       "      <td>0</td>\n",
       "      <td>0</td>\n",
       "      <td>0</td>\n",
       "      <td>0</td>\n",
       "      <td>1</td>\n",
       "      <td>0</td>\n",
       "      <td>0</td>\n",
       "      <td>0</td>\n",
       "    </tr>\n",
       "    <tr>\n",
       "      <th>3</th>\n",
       "      <td>9</td>\n",
       "      <td>80.62</td>\n",
       "      <td>az</td>\n",
       "      <td>t</td>\n",
       "      <td>n</td>\n",
       "      <td>f</td>\n",
       "      <td>d</td>\n",
       "      <td>x</td>\n",
       "      <td>l</td>\n",
       "      <td>e</td>\n",
       "      <td>...</td>\n",
       "      <td>0</td>\n",
       "      <td>0</td>\n",
       "      <td>0</td>\n",
       "      <td>0</td>\n",
       "      <td>0</td>\n",
       "      <td>0</td>\n",
       "      <td>0</td>\n",
       "      <td>0</td>\n",
       "      <td>0</td>\n",
       "      <td>0</td>\n",
       "    </tr>\n",
       "    <tr>\n",
       "      <th>4</th>\n",
       "      <td>13</td>\n",
       "      <td>78.02</td>\n",
       "      <td>az</td>\n",
       "      <td>v</td>\n",
       "      <td>n</td>\n",
       "      <td>f</td>\n",
       "      <td>d</td>\n",
       "      <td>h</td>\n",
       "      <td>d</td>\n",
       "      <td>n</td>\n",
       "      <td>...</td>\n",
       "      <td>0</td>\n",
       "      <td>0</td>\n",
       "      <td>0</td>\n",
       "      <td>0</td>\n",
       "      <td>0</td>\n",
       "      <td>0</td>\n",
       "      <td>0</td>\n",
       "      <td>0</td>\n",
       "      <td>0</td>\n",
       "      <td>0</td>\n",
       "    </tr>\n",
       "    <tr>\n",
       "      <th>5</th>\n",
       "      <td>18</td>\n",
       "      <td>92.93</td>\n",
       "      <td>t</td>\n",
       "      <td>b</td>\n",
       "      <td>e</td>\n",
       "      <td>c</td>\n",
       "      <td>d</td>\n",
       "      <td>g</td>\n",
       "      <td>h</td>\n",
       "      <td>s</td>\n",
       "      <td>...</td>\n",
       "      <td>0</td>\n",
       "      <td>0</td>\n",
       "      <td>1</td>\n",
       "      <td>0</td>\n",
       "      <td>0</td>\n",
       "      <td>0</td>\n",
       "      <td>0</td>\n",
       "      <td>0</td>\n",
       "      <td>0</td>\n",
       "      <td>0</td>\n",
       "    </tr>\n",
       "    <tr>\n",
       "      <th>6</th>\n",
       "      <td>24</td>\n",
       "      <td>128.76</td>\n",
       "      <td>al</td>\n",
       "      <td>r</td>\n",
       "      <td>e</td>\n",
       "      <td>f</td>\n",
       "      <td>d</td>\n",
       "      <td>f</td>\n",
       "      <td>h</td>\n",
       "      <td>s</td>\n",
       "      <td>...</td>\n",
       "      <td>0</td>\n",
       "      <td>0</td>\n",
       "      <td>0</td>\n",
       "      <td>0</td>\n",
       "      <td>0</td>\n",
       "      <td>0</td>\n",
       "      <td>0</td>\n",
       "      <td>0</td>\n",
       "      <td>0</td>\n",
       "      <td>0</td>\n",
       "    </tr>\n",
       "    <tr>\n",
       "      <th>7</th>\n",
       "      <td>25</td>\n",
       "      <td>91.91</td>\n",
       "      <td>o</td>\n",
       "      <td>l</td>\n",
       "      <td>as</td>\n",
       "      <td>f</td>\n",
       "      <td>d</td>\n",
       "      <td>f</td>\n",
       "      <td>j</td>\n",
       "      <td>a</td>\n",
       "      <td>...</td>\n",
       "      <td>0</td>\n",
       "      <td>0</td>\n",
       "      <td>0</td>\n",
       "      <td>0</td>\n",
       "      <td>0</td>\n",
       "      <td>0</td>\n",
       "      <td>0</td>\n",
       "      <td>0</td>\n",
       "      <td>0</td>\n",
       "      <td>0</td>\n",
       "    </tr>\n",
       "    <tr>\n",
       "      <th>8</th>\n",
       "      <td>27</td>\n",
       "      <td>108.67</td>\n",
       "      <td>w</td>\n",
       "      <td>s</td>\n",
       "      <td>as</td>\n",
       "      <td>e</td>\n",
       "      <td>d</td>\n",
       "      <td>f</td>\n",
       "      <td>i</td>\n",
       "      <td>h</td>\n",
       "      <td>...</td>\n",
       "      <td>1</td>\n",
       "      <td>0</td>\n",
       "      <td>0</td>\n",
       "      <td>0</td>\n",
       "      <td>0</td>\n",
       "      <td>0</td>\n",
       "      <td>0</td>\n",
       "      <td>0</td>\n",
       "      <td>0</td>\n",
       "      <td>0</td>\n",
       "    </tr>\n",
       "    <tr>\n",
       "      <th>9</th>\n",
       "      <td>30</td>\n",
       "      <td>126.99</td>\n",
       "      <td>j</td>\n",
       "      <td>b</td>\n",
       "      <td>aq</td>\n",
       "      <td>c</td>\n",
       "      <td>d</td>\n",
       "      <td>f</td>\n",
       "      <td>a</td>\n",
       "      <td>e</td>\n",
       "      <td>...</td>\n",
       "      <td>0</td>\n",
       "      <td>0</td>\n",
       "      <td>1</td>\n",
       "      <td>0</td>\n",
       "      <td>0</td>\n",
       "      <td>0</td>\n",
       "      <td>0</td>\n",
       "      <td>0</td>\n",
       "      <td>0</td>\n",
       "      <td>0</td>\n",
       "    </tr>\n",
       "  </tbody>\n",
       "</table>\n",
       "<p>10 rows × 378 columns</p>\n",
       "</div>"
      ],
      "text/plain": [
       "   ID       y  X0 X1  X2 X3 X4 X5 X6 X8  ...  X375  X376  X377  X378  X379  \\\n",
       "0   0  130.81   k  v  at  a  d  u  j  o  ...     0     0     1     0     0   \n",
       "1   6   88.53   k  t  av  e  d  y  l  o  ...     1     0     0     0     0   \n",
       "2   7   76.26  az  w   n  c  d  x  j  x  ...     0     0     0     0     0   \n",
       "3   9   80.62  az  t   n  f  d  x  l  e  ...     0     0     0     0     0   \n",
       "4  13   78.02  az  v   n  f  d  h  d  n  ...     0     0     0     0     0   \n",
       "5  18   92.93   t  b   e  c  d  g  h  s  ...     0     0     1     0     0   \n",
       "6  24  128.76  al  r   e  f  d  f  h  s  ...     0     0     0     0     0   \n",
       "7  25   91.91   o  l  as  f  d  f  j  a  ...     0     0     0     0     0   \n",
       "8  27  108.67   w  s  as  e  d  f  i  h  ...     1     0     0     0     0   \n",
       "9  30  126.99   j  b  aq  c  d  f  a  e  ...     0     0     1     0     0   \n",
       "\n",
       "   X380  X382  X383  X384  X385  \n",
       "0     0     0     0     0     0  \n",
       "1     0     0     0     0     0  \n",
       "2     0     1     0     0     0  \n",
       "3     0     0     0     0     0  \n",
       "4     0     0     0     0     0  \n",
       "5     0     0     0     0     0  \n",
       "6     0     0     0     0     0  \n",
       "7     0     0     0     0     0  \n",
       "8     0     0     0     0     0  \n",
       "9     0     0     0     0     0  \n",
       "\n",
       "[10 rows x 378 columns]"
      ]
     },
     "execution_count": 5,
     "metadata": {},
     "output_type": "execute_result"
    }
   ],
   "source": [
    "train.head(10)"
   ]
  },
  {
   "cell_type": "code",
   "execution_count": 6,
   "id": "7a5af9db",
   "metadata": {},
   "outputs": [
    {
     "data": {
      "text/html": [
       "<div>\n",
       "<style scoped>\n",
       "    .dataframe tbody tr th:only-of-type {\n",
       "        vertical-align: middle;\n",
       "    }\n",
       "\n",
       "    .dataframe tbody tr th {\n",
       "        vertical-align: top;\n",
       "    }\n",
       "\n",
       "    .dataframe thead th {\n",
       "        text-align: right;\n",
       "    }\n",
       "</style>\n",
       "<table border=\"1\" class=\"dataframe\">\n",
       "  <thead>\n",
       "    <tr style=\"text-align: right;\">\n",
       "      <th></th>\n",
       "      <th>ID</th>\n",
       "      <th>X0</th>\n",
       "      <th>X1</th>\n",
       "      <th>X2</th>\n",
       "      <th>X3</th>\n",
       "      <th>X4</th>\n",
       "      <th>X5</th>\n",
       "      <th>X6</th>\n",
       "      <th>X8</th>\n",
       "      <th>X10</th>\n",
       "      <th>...</th>\n",
       "      <th>X375</th>\n",
       "      <th>X376</th>\n",
       "      <th>X377</th>\n",
       "      <th>X378</th>\n",
       "      <th>X379</th>\n",
       "      <th>X380</th>\n",
       "      <th>X382</th>\n",
       "      <th>X383</th>\n",
       "      <th>X384</th>\n",
       "      <th>X385</th>\n",
       "    </tr>\n",
       "  </thead>\n",
       "  <tbody>\n",
       "    <tr>\n",
       "      <th>0</th>\n",
       "      <td>1</td>\n",
       "      <td>az</td>\n",
       "      <td>v</td>\n",
       "      <td>n</td>\n",
       "      <td>f</td>\n",
       "      <td>d</td>\n",
       "      <td>t</td>\n",
       "      <td>a</td>\n",
       "      <td>w</td>\n",
       "      <td>0</td>\n",
       "      <td>...</td>\n",
       "      <td>0</td>\n",
       "      <td>0</td>\n",
       "      <td>0</td>\n",
       "      <td>1</td>\n",
       "      <td>0</td>\n",
       "      <td>0</td>\n",
       "      <td>0</td>\n",
       "      <td>0</td>\n",
       "      <td>0</td>\n",
       "      <td>0</td>\n",
       "    </tr>\n",
       "    <tr>\n",
       "      <th>1</th>\n",
       "      <td>2</td>\n",
       "      <td>t</td>\n",
       "      <td>b</td>\n",
       "      <td>ai</td>\n",
       "      <td>a</td>\n",
       "      <td>d</td>\n",
       "      <td>b</td>\n",
       "      <td>g</td>\n",
       "      <td>y</td>\n",
       "      <td>0</td>\n",
       "      <td>...</td>\n",
       "      <td>0</td>\n",
       "      <td>0</td>\n",
       "      <td>1</td>\n",
       "      <td>0</td>\n",
       "      <td>0</td>\n",
       "      <td>0</td>\n",
       "      <td>0</td>\n",
       "      <td>0</td>\n",
       "      <td>0</td>\n",
       "      <td>0</td>\n",
       "    </tr>\n",
       "    <tr>\n",
       "      <th>2</th>\n",
       "      <td>3</td>\n",
       "      <td>az</td>\n",
       "      <td>v</td>\n",
       "      <td>as</td>\n",
       "      <td>f</td>\n",
       "      <td>d</td>\n",
       "      <td>a</td>\n",
       "      <td>j</td>\n",
       "      <td>j</td>\n",
       "      <td>0</td>\n",
       "      <td>...</td>\n",
       "      <td>0</td>\n",
       "      <td>0</td>\n",
       "      <td>0</td>\n",
       "      <td>1</td>\n",
       "      <td>0</td>\n",
       "      <td>0</td>\n",
       "      <td>0</td>\n",
       "      <td>0</td>\n",
       "      <td>0</td>\n",
       "      <td>0</td>\n",
       "    </tr>\n",
       "    <tr>\n",
       "      <th>3</th>\n",
       "      <td>4</td>\n",
       "      <td>az</td>\n",
       "      <td>l</td>\n",
       "      <td>n</td>\n",
       "      <td>f</td>\n",
       "      <td>d</td>\n",
       "      <td>z</td>\n",
       "      <td>l</td>\n",
       "      <td>n</td>\n",
       "      <td>0</td>\n",
       "      <td>...</td>\n",
       "      <td>0</td>\n",
       "      <td>0</td>\n",
       "      <td>0</td>\n",
       "      <td>1</td>\n",
       "      <td>0</td>\n",
       "      <td>0</td>\n",
       "      <td>0</td>\n",
       "      <td>0</td>\n",
       "      <td>0</td>\n",
       "      <td>0</td>\n",
       "    </tr>\n",
       "    <tr>\n",
       "      <th>4</th>\n",
       "      <td>5</td>\n",
       "      <td>w</td>\n",
       "      <td>s</td>\n",
       "      <td>as</td>\n",
       "      <td>c</td>\n",
       "      <td>d</td>\n",
       "      <td>y</td>\n",
       "      <td>i</td>\n",
       "      <td>m</td>\n",
       "      <td>0</td>\n",
       "      <td>...</td>\n",
       "      <td>1</td>\n",
       "      <td>0</td>\n",
       "      <td>0</td>\n",
       "      <td>0</td>\n",
       "      <td>0</td>\n",
       "      <td>0</td>\n",
       "      <td>0</td>\n",
       "      <td>0</td>\n",
       "      <td>0</td>\n",
       "      <td>0</td>\n",
       "    </tr>\n",
       "  </tbody>\n",
       "</table>\n",
       "<p>5 rows × 377 columns</p>\n",
       "</div>"
      ],
      "text/plain": [
       "   ID  X0 X1  X2 X3 X4 X5 X6 X8  X10  ...  X375  X376  X377  X378  X379  X380  \\\n",
       "0   1  az  v   n  f  d  t  a  w    0  ...     0     0     0     1     0     0   \n",
       "1   2   t  b  ai  a  d  b  g  y    0  ...     0     0     1     0     0     0   \n",
       "2   3  az  v  as  f  d  a  j  j    0  ...     0     0     0     1     0     0   \n",
       "3   4  az  l   n  f  d  z  l  n    0  ...     0     0     0     1     0     0   \n",
       "4   5   w  s  as  c  d  y  i  m    0  ...     1     0     0     0     0     0   \n",
       "\n",
       "   X382  X383  X384  X385  \n",
       "0     0     0     0     0  \n",
       "1     0     0     0     0  \n",
       "2     0     0     0     0  \n",
       "3     0     0     0     0  \n",
       "4     0     0     0     0  \n",
       "\n",
       "[5 rows x 377 columns]"
      ]
     },
     "execution_count": 6,
     "metadata": {},
     "output_type": "execute_result"
    }
   ],
   "source": [
    "test.head()"
   ]
  },
  {
   "cell_type": "code",
   "execution_count": 7,
   "id": "9083ff03",
   "metadata": {},
   "outputs": [
    {
     "data": {
      "text/plain": [
       "(4209, 378)"
      ]
     },
     "execution_count": 7,
     "metadata": {},
     "output_type": "execute_result"
    }
   ],
   "source": [
    "train.shape"
   ]
  },
  {
   "cell_type": "code",
   "execution_count": 8,
   "id": "e1b8bed9",
   "metadata": {},
   "outputs": [
    {
     "data": {
      "text/plain": [
       "(4209, 377)"
      ]
     },
     "execution_count": 8,
     "metadata": {},
     "output_type": "execute_result"
    }
   ],
   "source": [
    "test.shape"
   ]
  },
  {
   "cell_type": "code",
   "execution_count": 9,
   "id": "a38f25eb",
   "metadata": {},
   "outputs": [
    {
     "data": {
      "text/plain": [
       "False"
      ]
     },
     "execution_count": 9,
     "metadata": {},
     "output_type": "execute_result"
    }
   ],
   "source": [
    "train.isnull().values.any()"
   ]
  },
  {
   "cell_type": "code",
   "execution_count": 10,
   "id": "90585214",
   "metadata": {},
   "outputs": [
    {
     "data": {
      "text/plain": [
       "False"
      ]
     },
     "execution_count": 10,
     "metadata": {},
     "output_type": "execute_result"
    }
   ],
   "source": [
    "test.isnull().values.any()"
   ]
  },
  {
   "cell_type": "markdown",
   "id": "9e6027c3",
   "metadata": {},
   "source": [
    "#### Task 1: If for any column(s), the variance is equal to zero, we should remove those variable(s)."
   ]
  },
  {
   "cell_type": "code",
   "execution_count": 11,
   "id": "f07b852c",
   "metadata": {},
   "outputs": [],
   "source": [
    "train1 = train.copy()\n",
    "test1 = test.copy()"
   ]
  },
  {
   "cell_type": "code",
   "execution_count": 12,
   "id": "48d44ce4",
   "metadata": {},
   "outputs": [],
   "source": [
    "train2 = train1.loc[:,train1.apply(pd.Series.nunique) != 1] "
   ]
  },
  {
   "cell_type": "code",
   "execution_count": 13,
   "id": "3c26228a",
   "metadata": {},
   "outputs": [
    {
     "data": {
      "text/plain": [
       "(4209, 378)"
      ]
     },
     "execution_count": 13,
     "metadata": {},
     "output_type": "execute_result"
    }
   ],
   "source": [
    "train1.shape"
   ]
  },
  {
   "cell_type": "code",
   "execution_count": 14,
   "id": "1a5d0ff8",
   "metadata": {},
   "outputs": [
    {
     "data": {
      "text/plain": [
       "(4209, 366)"
      ]
     },
     "execution_count": 14,
     "metadata": {},
     "output_type": "execute_result"
    }
   ],
   "source": [
    "train2.shape"
   ]
  },
  {
   "cell_type": "code",
   "execution_count": 15,
   "id": "dded5890",
   "metadata": {},
   "outputs": [],
   "source": [
    "test2 = test1.loc[:,test1.apply(pd.Series.nunique) != 1] "
   ]
  },
  {
   "cell_type": "code",
   "execution_count": 16,
   "id": "f063624a",
   "metadata": {},
   "outputs": [
    {
     "data": {
      "text/plain": [
       "(4209, 372)"
      ]
     },
     "execution_count": 16,
     "metadata": {},
     "output_type": "execute_result"
    }
   ],
   "source": [
    "test2.shape"
   ]
  },
  {
   "cell_type": "code",
   "execution_count": 17,
   "id": "c89d9a38",
   "metadata": {},
   "outputs": [
    {
     "data": {
      "text/plain": [
       "(4209, 377)"
      ]
     },
     "execution_count": 17,
     "metadata": {},
     "output_type": "execute_result"
    }
   ],
   "source": [
    "test1.shape"
   ]
  },
  {
   "cell_type": "markdown",
   "id": "de9adfd1",
   "metadata": {},
   "source": [
    "#### Task 2 : Check for null and unique values for test and train sets."
   ]
  },
  {
   "cell_type": "code",
   "execution_count": 18,
   "id": "1dceec5a",
   "metadata": {},
   "outputs": [
    {
     "data": {
      "text/plain": [
       "False"
      ]
     },
     "execution_count": 18,
     "metadata": {},
     "output_type": "execute_result"
    }
   ],
   "source": [
    "train2.isnull().values.any()"
   ]
  },
  {
   "cell_type": "code",
   "execution_count": 19,
   "id": "e5758dae",
   "metadata": {
    "scrolled": true
   },
   "outputs": [
    {
     "data": {
      "text/plain": [
       "False"
      ]
     },
     "execution_count": 19,
     "metadata": {},
     "output_type": "execute_result"
    }
   ],
   "source": [
    "test2.isnull().values.any()"
   ]
  },
  {
   "cell_type": "markdown",
   "id": "c314b876",
   "metadata": {},
   "source": [
    "#### Task 3 : Apply label encoder."
   ]
  },
  {
   "cell_type": "code",
   "execution_count": 20,
   "id": "069ffeaf",
   "metadata": {},
   "outputs": [
    {
     "data": {
      "text/plain": [
       "array([dtype('int64'), dtype('float64'), dtype('O')], dtype=object)"
      ]
     },
     "execution_count": 20,
     "metadata": {},
     "output_type": "execute_result"
    }
   ],
   "source": [
    "train2.dtypes.unique()\n"
   ]
  },
  {
   "cell_type": "code",
   "execution_count": 21,
   "id": "56fddca4",
   "metadata": {},
   "outputs": [
    {
     "data": {
      "text/plain": [
       "array([dtype('int64'), dtype('O')], dtype=object)"
      ]
     },
     "execution_count": 21,
     "metadata": {},
     "output_type": "execute_result"
    }
   ],
   "source": [
    "test2.dtypes.unique()"
   ]
  },
  {
   "cell_type": "code",
   "execution_count": 22,
   "id": "737393ce",
   "metadata": {},
   "outputs": [],
   "source": [
    "train2_num = train2.select_dtypes(include=['int64','float64'])\n",
    "train2_cat = train2.select_dtypes(include = 'object')"
   ]
  },
  {
   "cell_type": "code",
   "execution_count": 23,
   "id": "94f4462f",
   "metadata": {},
   "outputs": [],
   "source": [
    "test2_num = train2.select_dtypes(include=['int64','float64'])\n",
    "test2_cat = train2.select_dtypes(include = 'object')"
   ]
  },
  {
   "cell_type": "code",
   "execution_count": 24,
   "id": "52f96657",
   "metadata": {},
   "outputs": [],
   "source": [
    "# Import label encoder\n",
    "from sklearn import preprocessing\n",
    "  \n",
    "# label_encoder object knows how to understand word labels.\n",
    "label_encoder = preprocessing.LabelEncoder()"
   ]
  },
  {
   "cell_type": "code",
   "execution_count": 25,
   "id": "9584a366",
   "metadata": {},
   "outputs": [],
   "source": [
    "train_cat = train2_cat.apply(label_encoder.fit_transform)"
   ]
  },
  {
   "cell_type": "code",
   "execution_count": 26,
   "id": "162649b3",
   "metadata": {},
   "outputs": [],
   "source": [
    "test_cat = test2_cat.apply(label_encoder.fit_transform)"
   ]
  },
  {
   "cell_type": "code",
   "execution_count": 27,
   "id": "dca8e736",
   "metadata": {},
   "outputs": [
    {
     "data": {
      "text/html": [
       "<div>\n",
       "<style scoped>\n",
       "    .dataframe tbody tr th:only-of-type {\n",
       "        vertical-align: middle;\n",
       "    }\n",
       "\n",
       "    .dataframe tbody tr th {\n",
       "        vertical-align: top;\n",
       "    }\n",
       "\n",
       "    .dataframe thead th {\n",
       "        text-align: right;\n",
       "    }\n",
       "</style>\n",
       "<table border=\"1\" class=\"dataframe\">\n",
       "  <thead>\n",
       "    <tr style=\"text-align: right;\">\n",
       "      <th></th>\n",
       "      <th>X0</th>\n",
       "      <th>X1</th>\n",
       "      <th>X2</th>\n",
       "      <th>X3</th>\n",
       "      <th>X4</th>\n",
       "      <th>X5</th>\n",
       "      <th>X6</th>\n",
       "      <th>X8</th>\n",
       "    </tr>\n",
       "  </thead>\n",
       "  <tbody>\n",
       "    <tr>\n",
       "      <th>0</th>\n",
       "      <td>32</td>\n",
       "      <td>23</td>\n",
       "      <td>17</td>\n",
       "      <td>0</td>\n",
       "      <td>3</td>\n",
       "      <td>24</td>\n",
       "      <td>9</td>\n",
       "      <td>14</td>\n",
       "    </tr>\n",
       "    <tr>\n",
       "      <th>1</th>\n",
       "      <td>32</td>\n",
       "      <td>21</td>\n",
       "      <td>19</td>\n",
       "      <td>4</td>\n",
       "      <td>3</td>\n",
       "      <td>28</td>\n",
       "      <td>11</td>\n",
       "      <td>14</td>\n",
       "    </tr>\n",
       "    <tr>\n",
       "      <th>2</th>\n",
       "      <td>20</td>\n",
       "      <td>24</td>\n",
       "      <td>34</td>\n",
       "      <td>2</td>\n",
       "      <td>3</td>\n",
       "      <td>27</td>\n",
       "      <td>9</td>\n",
       "      <td>23</td>\n",
       "    </tr>\n",
       "    <tr>\n",
       "      <th>3</th>\n",
       "      <td>20</td>\n",
       "      <td>21</td>\n",
       "      <td>34</td>\n",
       "      <td>5</td>\n",
       "      <td>3</td>\n",
       "      <td>27</td>\n",
       "      <td>11</td>\n",
       "      <td>4</td>\n",
       "    </tr>\n",
       "    <tr>\n",
       "      <th>4</th>\n",
       "      <td>20</td>\n",
       "      <td>23</td>\n",
       "      <td>34</td>\n",
       "      <td>5</td>\n",
       "      <td>3</td>\n",
       "      <td>12</td>\n",
       "      <td>3</td>\n",
       "      <td>13</td>\n",
       "    </tr>\n",
       "  </tbody>\n",
       "</table>\n",
       "</div>"
      ],
      "text/plain": [
       "   X0  X1  X2  X3  X4  X5  X6  X8\n",
       "0  32  23  17   0   3  24   9  14\n",
       "1  32  21  19   4   3  28  11  14\n",
       "2  20  24  34   2   3  27   9  23\n",
       "3  20  21  34   5   3  27  11   4\n",
       "4  20  23  34   5   3  12   3  13"
      ]
     },
     "execution_count": 27,
     "metadata": {},
     "output_type": "execute_result"
    }
   ],
   "source": [
    "train_cat.head()"
   ]
  },
  {
   "cell_type": "markdown",
   "id": "8232f9c0",
   "metadata": {},
   "source": [
    "### Task 4: Perform dimensionality reduction."
   ]
  },
  {
   "cell_type": "code",
   "execution_count": 28,
   "id": "428ac6f0",
   "metadata": {},
   "outputs": [],
   "source": [
    "train3 = pd.concat([train_cat,train2_num], axis = 1)"
   ]
  },
  {
   "cell_type": "code",
   "execution_count": 29,
   "id": "dbd59454",
   "metadata": {},
   "outputs": [],
   "source": [
    "test3 = pd.concat([test_cat,test2_num], axis = 1)"
   ]
  },
  {
   "cell_type": "markdown",
   "id": "45decd77",
   "metadata": {},
   "source": [
    "##### Principal Component Analysis"
   ]
  },
  {
   "cell_type": "code",
   "execution_count": 30,
   "id": "709f88ab",
   "metadata": {},
   "outputs": [],
   "source": [
    "from sklearn.preprocessing import StandardScaler\n",
    "scaler = StandardScaler()"
   ]
  },
  {
   "cell_type": "code",
   "execution_count": 31,
   "id": "0212ff5a",
   "metadata": {},
   "outputs": [
    {
     "data": {
      "text/html": [
       "<style>#sk-container-id-1 {color: black;background-color: white;}#sk-container-id-1 pre{padding: 0;}#sk-container-id-1 div.sk-toggleable {background-color: white;}#sk-container-id-1 label.sk-toggleable__label {cursor: pointer;display: block;width: 100%;margin-bottom: 0;padding: 0.3em;box-sizing: border-box;text-align: center;}#sk-container-id-1 label.sk-toggleable__label-arrow:before {content: \"▸\";float: left;margin-right: 0.25em;color: #696969;}#sk-container-id-1 label.sk-toggleable__label-arrow:hover:before {color: black;}#sk-container-id-1 div.sk-estimator:hover label.sk-toggleable__label-arrow:before {color: black;}#sk-container-id-1 div.sk-toggleable__content {max-height: 0;max-width: 0;overflow: hidden;text-align: left;background-color: #f0f8ff;}#sk-container-id-1 div.sk-toggleable__content pre {margin: 0.2em;color: black;border-radius: 0.25em;background-color: #f0f8ff;}#sk-container-id-1 input.sk-toggleable__control:checked~div.sk-toggleable__content {max-height: 200px;max-width: 100%;overflow: auto;}#sk-container-id-1 input.sk-toggleable__control:checked~label.sk-toggleable__label-arrow:before {content: \"▾\";}#sk-container-id-1 div.sk-estimator input.sk-toggleable__control:checked~label.sk-toggleable__label {background-color: #d4ebff;}#sk-container-id-1 div.sk-label input.sk-toggleable__control:checked~label.sk-toggleable__label {background-color: #d4ebff;}#sk-container-id-1 input.sk-hidden--visually {border: 0;clip: rect(1px 1px 1px 1px);clip: rect(1px, 1px, 1px, 1px);height: 1px;margin: -1px;overflow: hidden;padding: 0;position: absolute;width: 1px;}#sk-container-id-1 div.sk-estimator {font-family: monospace;background-color: #f0f8ff;border: 1px dotted black;border-radius: 0.25em;box-sizing: border-box;margin-bottom: 0.5em;}#sk-container-id-1 div.sk-estimator:hover {background-color: #d4ebff;}#sk-container-id-1 div.sk-parallel-item::after {content: \"\";width: 100%;border-bottom: 1px solid gray;flex-grow: 1;}#sk-container-id-1 div.sk-label:hover label.sk-toggleable__label {background-color: #d4ebff;}#sk-container-id-1 div.sk-serial::before {content: \"\";position: absolute;border-left: 1px solid gray;box-sizing: border-box;top: 0;bottom: 0;left: 50%;z-index: 0;}#sk-container-id-1 div.sk-serial {display: flex;flex-direction: column;align-items: center;background-color: white;padding-right: 0.2em;padding-left: 0.2em;position: relative;}#sk-container-id-1 div.sk-item {position: relative;z-index: 1;}#sk-container-id-1 div.sk-parallel {display: flex;align-items: stretch;justify-content: center;background-color: white;position: relative;}#sk-container-id-1 div.sk-item::before, #sk-container-id-1 div.sk-parallel-item::before {content: \"\";position: absolute;border-left: 1px solid gray;box-sizing: border-box;top: 0;bottom: 0;left: 50%;z-index: -1;}#sk-container-id-1 div.sk-parallel-item {display: flex;flex-direction: column;z-index: 1;position: relative;background-color: white;}#sk-container-id-1 div.sk-parallel-item:first-child::after {align-self: flex-end;width: 50%;}#sk-container-id-1 div.sk-parallel-item:last-child::after {align-self: flex-start;width: 50%;}#sk-container-id-1 div.sk-parallel-item:only-child::after {width: 0;}#sk-container-id-1 div.sk-dashed-wrapped {border: 1px dashed gray;margin: 0 0.4em 0.5em 0.4em;box-sizing: border-box;padding-bottom: 0.4em;background-color: white;}#sk-container-id-1 div.sk-label label {font-family: monospace;font-weight: bold;display: inline-block;line-height: 1.2em;}#sk-container-id-1 div.sk-label-container {text-align: center;}#sk-container-id-1 div.sk-container {/* jupyter's `normalize.less` sets `[hidden] { display: none; }` but bootstrap.min.css set `[hidden] { display: none !important; }` so we also need the `!important` here to be able to override the default hidden behavior on the sphinx rendered scikit-learn.org. See: https://github.com/scikit-learn/scikit-learn/issues/21755 */display: inline-block !important;position: relative;}#sk-container-id-1 div.sk-text-repr-fallback {display: none;}</style><div id=\"sk-container-id-1\" class=\"sk-top-container\"><div class=\"sk-text-repr-fallback\"><pre>StandardScaler()</pre><b>In a Jupyter environment, please rerun this cell to show the HTML representation or trust the notebook. <br />On GitHub, the HTML representation is unable to render, please try loading this page with nbviewer.org.</b></div><div class=\"sk-container\" hidden><div class=\"sk-item\"><div class=\"sk-estimator sk-toggleable\"><input class=\"sk-toggleable__control sk-hidden--visually\" id=\"sk-estimator-id-1\" type=\"checkbox\" checked><label for=\"sk-estimator-id-1\" class=\"sk-toggleable__label sk-toggleable__label-arrow\">StandardScaler</label><div class=\"sk-toggleable__content\"><pre>StandardScaler()</pre></div></div></div></div></div>"
      ],
      "text/plain": [
       "StandardScaler()"
      ]
     },
     "execution_count": 31,
     "metadata": {},
     "output_type": "execute_result"
    }
   ],
   "source": [
    "scaler.fit(train3)\n",
    "scaler.fit(test3)"
   ]
  },
  {
   "cell_type": "code",
   "execution_count": 32,
   "id": "ff66765c",
   "metadata": {},
   "outputs": [],
   "source": [
    "scaled_data_train = scaler.transform(train3)\n",
    "scaled_data_test = scaler.transform(test3)"
   ]
  },
  {
   "cell_type": "code",
   "execution_count": 33,
   "id": "458357ff",
   "metadata": {},
   "outputs": [],
   "source": [
    "from sklearn.decomposition import PCA"
   ]
  },
  {
   "cell_type": "code",
   "execution_count": 34,
   "id": "474fb50f",
   "metadata": {},
   "outputs": [],
   "source": [
    "pca = PCA(n_components = 175)"
   ]
  },
  {
   "cell_type": "code",
   "execution_count": 35,
   "id": "21ecbb04",
   "metadata": {},
   "outputs": [],
   "source": [
    "train_pca = pca.fit_transform(scaled_data_train)\n",
    "test_pca = pca.fit_transform(scaled_data_test)"
   ]
  },
  {
   "cell_type": "code",
   "execution_count": 36,
   "id": "eed368af",
   "metadata": {},
   "outputs": [
    {
     "data": {
      "text/plain": [
       "(4209, 175)"
      ]
     },
     "execution_count": 36,
     "metadata": {},
     "output_type": "execute_result"
    }
   ],
   "source": [
    "train_pca.shape"
   ]
  },
  {
   "cell_type": "code",
   "execution_count": 37,
   "id": "234031bf",
   "metadata": {},
   "outputs": [
    {
     "data": {
      "text/plain": [
       "(4209, 175)"
      ]
     },
     "execution_count": 37,
     "metadata": {},
     "output_type": "execute_result"
    }
   ],
   "source": [
    "test_pca.shape"
   ]
  },
  {
   "cell_type": "code",
   "execution_count": 38,
   "id": "a43191e6",
   "metadata": {},
   "outputs": [],
   "source": [
    "# Dataframe"
   ]
  },
  {
   "cell_type": "code",
   "execution_count": 39,
   "id": "25ea7cbc",
   "metadata": {},
   "outputs": [],
   "source": [
    "pca_train_df = pd.DataFrame(train_pca)"
   ]
  },
  {
   "cell_type": "code",
   "execution_count": 40,
   "id": "6bbadfed",
   "metadata": {},
   "outputs": [],
   "source": [
    "pca_test_df = pd.DataFrame(test_pca)"
   ]
  },
  {
   "cell_type": "code",
   "execution_count": 41,
   "id": "fc78424b",
   "metadata": {},
   "outputs": [
    {
     "data": {
      "text/html": [
       "<div>\n",
       "<style scoped>\n",
       "    .dataframe tbody tr th:only-of-type {\n",
       "        vertical-align: middle;\n",
       "    }\n",
       "\n",
       "    .dataframe tbody tr th {\n",
       "        vertical-align: top;\n",
       "    }\n",
       "\n",
       "    .dataframe thead th {\n",
       "        text-align: right;\n",
       "    }\n",
       "</style>\n",
       "<table border=\"1\" class=\"dataframe\">\n",
       "  <thead>\n",
       "    <tr style=\"text-align: right;\">\n",
       "      <th></th>\n",
       "      <th>0</th>\n",
       "      <th>1</th>\n",
       "      <th>2</th>\n",
       "      <th>3</th>\n",
       "      <th>4</th>\n",
       "      <th>5</th>\n",
       "      <th>6</th>\n",
       "      <th>7</th>\n",
       "      <th>8</th>\n",
       "      <th>9</th>\n",
       "      <th>...</th>\n",
       "      <th>165</th>\n",
       "      <th>166</th>\n",
       "      <th>167</th>\n",
       "      <th>168</th>\n",
       "      <th>169</th>\n",
       "      <th>170</th>\n",
       "      <th>171</th>\n",
       "      <th>172</th>\n",
       "      <th>173</th>\n",
       "      <th>174</th>\n",
       "    </tr>\n",
       "  </thead>\n",
       "  <tbody>\n",
       "    <tr>\n",
       "      <th>0</th>\n",
       "      <td>12.353130</td>\n",
       "      <td>-2.935300</td>\n",
       "      <td>-0.958584</td>\n",
       "      <td>1.877987</td>\n",
       "      <td>-1.133357</td>\n",
       "      <td>-3.802641</td>\n",
       "      <td>9.033557</td>\n",
       "      <td>-3.586901</td>\n",
       "      <td>-16.154667</td>\n",
       "      <td>8.455026</td>\n",
       "      <td>...</td>\n",
       "      <td>0.345694</td>\n",
       "      <td>0.351666</td>\n",
       "      <td>-0.213625</td>\n",
       "      <td>0.188970</td>\n",
       "      <td>-0.306970</td>\n",
       "      <td>0.081259</td>\n",
       "      <td>0.657750</td>\n",
       "      <td>-0.639783</td>\n",
       "      <td>-0.656425</td>\n",
       "      <td>-0.180209</td>\n",
       "    </tr>\n",
       "    <tr>\n",
       "      <th>1</th>\n",
       "      <td>-0.144770</td>\n",
       "      <td>0.444027</td>\n",
       "      <td>0.900783</td>\n",
       "      <td>1.333713</td>\n",
       "      <td>-2.572785</td>\n",
       "      <td>-0.197730</td>\n",
       "      <td>1.009563</td>\n",
       "      <td>-0.595030</td>\n",
       "      <td>-0.485391</td>\n",
       "      <td>0.150978</td>\n",
       "      <td>...</td>\n",
       "      <td>-1.981649</td>\n",
       "      <td>-0.232210</td>\n",
       "      <td>-0.423427</td>\n",
       "      <td>1.259902</td>\n",
       "      <td>0.194560</td>\n",
       "      <td>1.478714</td>\n",
       "      <td>-0.696167</td>\n",
       "      <td>-0.445098</td>\n",
       "      <td>-0.954324</td>\n",
       "      <td>-1.282099</td>\n",
       "    </tr>\n",
       "    <tr>\n",
       "      <th>2</th>\n",
       "      <td>9.922351</td>\n",
       "      <td>21.432498</td>\n",
       "      <td>-4.582107</td>\n",
       "      <td>-4.581799</td>\n",
       "      <td>0.600137</td>\n",
       "      <td>2.660913</td>\n",
       "      <td>1.146675</td>\n",
       "      <td>3.645686</td>\n",
       "      <td>-0.922956</td>\n",
       "      <td>1.311941</td>\n",
       "      <td>...</td>\n",
       "      <td>0.077152</td>\n",
       "      <td>0.441433</td>\n",
       "      <td>0.056802</td>\n",
       "      <td>-0.791114</td>\n",
       "      <td>0.380088</td>\n",
       "      <td>-0.090674</td>\n",
       "      <td>0.670993</td>\n",
       "      <td>0.056993</td>\n",
       "      <td>-0.241737</td>\n",
       "      <td>0.326070</td>\n",
       "    </tr>\n",
       "    <tr>\n",
       "      <th>3</th>\n",
       "      <td>7.011290</td>\n",
       "      <td>21.645855</td>\n",
       "      <td>-5.531054</td>\n",
       "      <td>-0.071343</td>\n",
       "      <td>2.114276</td>\n",
       "      <td>0.656492</td>\n",
       "      <td>0.415246</td>\n",
       "      <td>-0.034719</td>\n",
       "      <td>0.174028</td>\n",
       "      <td>2.932282</td>\n",
       "      <td>...</td>\n",
       "      <td>0.296382</td>\n",
       "      <td>0.065552</td>\n",
       "      <td>0.340573</td>\n",
       "      <td>-0.039912</td>\n",
       "      <td>-0.385141</td>\n",
       "      <td>0.155632</td>\n",
       "      <td>-0.013530</td>\n",
       "      <td>-0.127392</td>\n",
       "      <td>0.316227</td>\n",
       "      <td>-0.080004</td>\n",
       "    </tr>\n",
       "    <tr>\n",
       "      <th>4</th>\n",
       "      <td>6.215247</td>\n",
       "      <td>21.739795</td>\n",
       "      <td>-6.088647</td>\n",
       "      <td>0.605994</td>\n",
       "      <td>2.196022</td>\n",
       "      <td>-0.077214</td>\n",
       "      <td>-0.991484</td>\n",
       "      <td>-0.230555</td>\n",
       "      <td>0.879466</td>\n",
       "      <td>0.814801</td>\n",
       "      <td>...</td>\n",
       "      <td>-0.894367</td>\n",
       "      <td>1.753501</td>\n",
       "      <td>-1.522697</td>\n",
       "      <td>2.557603</td>\n",
       "      <td>0.399926</td>\n",
       "      <td>-0.607704</td>\n",
       "      <td>-0.640043</td>\n",
       "      <td>-0.786670</td>\n",
       "      <td>-0.230425</td>\n",
       "      <td>1.316221</td>\n",
       "    </tr>\n",
       "  </tbody>\n",
       "</table>\n",
       "<p>5 rows × 175 columns</p>\n",
       "</div>"
      ],
      "text/plain": [
       "         0          1         2         3         4         5         6    \\\n",
       "0  12.353130  -2.935300 -0.958584  1.877987 -1.133357 -3.802641  9.033557   \n",
       "1  -0.144770   0.444027  0.900783  1.333713 -2.572785 -0.197730  1.009563   \n",
       "2   9.922351  21.432498 -4.582107 -4.581799  0.600137  2.660913  1.146675   \n",
       "3   7.011290  21.645855 -5.531054 -0.071343  2.114276  0.656492  0.415246   \n",
       "4   6.215247  21.739795 -6.088647  0.605994  2.196022 -0.077214 -0.991484   \n",
       "\n",
       "        7          8         9    ...       165       166       167       168  \\\n",
       "0 -3.586901 -16.154667  8.455026  ...  0.345694  0.351666 -0.213625  0.188970   \n",
       "1 -0.595030  -0.485391  0.150978  ... -1.981649 -0.232210 -0.423427  1.259902   \n",
       "2  3.645686  -0.922956  1.311941  ...  0.077152  0.441433  0.056802 -0.791114   \n",
       "3 -0.034719   0.174028  2.932282  ...  0.296382  0.065552  0.340573 -0.039912   \n",
       "4 -0.230555   0.879466  0.814801  ... -0.894367  1.753501 -1.522697  2.557603   \n",
       "\n",
       "        169       170       171       172       173       174  \n",
       "0 -0.306970  0.081259  0.657750 -0.639783 -0.656425 -0.180209  \n",
       "1  0.194560  1.478714 -0.696167 -0.445098 -0.954324 -1.282099  \n",
       "2  0.380088 -0.090674  0.670993  0.056993 -0.241737  0.326070  \n",
       "3 -0.385141  0.155632 -0.013530 -0.127392  0.316227 -0.080004  \n",
       "4  0.399926 -0.607704 -0.640043 -0.786670 -0.230425  1.316221  \n",
       "\n",
       "[5 rows x 175 columns]"
      ]
     },
     "execution_count": 41,
     "metadata": {},
     "output_type": "execute_result"
    }
   ],
   "source": [
    "pca_train_df.head()"
   ]
  },
  {
   "cell_type": "code",
   "execution_count": 42,
   "id": "39b4a003",
   "metadata": {},
   "outputs": [],
   "source": [
    "# pca.explained_variance_ratio_*100"
   ]
  },
  {
   "cell_type": "code",
   "execution_count": 43,
   "id": "77118b7b",
   "metadata": {},
   "outputs": [
    {
     "data": {
      "text/plain": [
       "97.66374511740861"
      ]
     },
     "execution_count": 43,
     "metadata": {},
     "output_type": "execute_result"
    }
   ],
   "source": [
    "(pca.explained_variance_ratio_*100).sum()"
   ]
  },
  {
   "cell_type": "markdown",
   "id": "6fdfe9e7",
   "metadata": {},
   "source": [
    "#### Dimensionality reduction using correlation"
   ]
  },
  {
   "cell_type": "code",
   "execution_count": 44,
   "id": "ccf17afc",
   "metadata": {
    "scrolled": true
   },
   "outputs": [
    {
     "data": {
      "text/plain": [
       "<AxesSubplot:>"
      ]
     },
     "execution_count": 44,
     "metadata": {},
     "output_type": "execute_result"
    },
    {
     "data": {
      "image/png": "[encoded data removed]",
      "text/plain": [
       "<Figure size 3600x3600 with 2 Axes>"
      ]
     },
     "metadata": {
      "needs_background": "light"
     },
     "output_type": "display_data"
    }
   ],
   "source": [
    "# Correlation between different variables\n",
    "corr = pca_train_df.corr()\n",
    "# Set up the matplotlib plot configuration\n",
    "f, ax = plt.subplots(figsize=(50, 50))\n",
    "# Generate a mask for upper traingle\n",
    "mask = np.triu(np.ones_like(corr, dtype=bool))\n",
    "# Configure a custom diverging colormap\n",
    "cmap = sns.diverging_palette(230, 20, as_cmap=True)\n",
    "# Draw the heatmap\n",
    "sns.heatmap(corr, annot=False, mask = mask, cmap=cmap)\n"
   ]
  },
  {
   "cell_type": "markdown",
   "id": "8677cb16",
   "metadata": {},
   "source": [
    "#### Dropping using correlation"
   ]
  },
  {
   "cell_type": "code",
   "execution_count": 45,
   "id": "55711543",
   "metadata": {},
   "outputs": [],
   "source": [
    "def correlation(dataset,threshold):\n",
    "    col_corr = set()\n",
    "    corr_matrix = dataset.corr()\n",
    "    for i in range(len(corr_matrix.columns)):\n",
    "        for j in range(i):\n",
    "            if abs(corr_matrix.iloc[i,j] > threshold):\n",
    "                colname = corr_matrix.columns[i]\n",
    "                col_corr.add(colname)\n",
    "    return col_corr"
   ]
  },
  {
   "cell_type": "code",
   "execution_count": 46,
   "id": "24e5fe8e",
   "metadata": {},
   "outputs": [],
   "source": [
    "corr_features = correlation(pca_train_df, 0.1)"
   ]
  },
  {
   "cell_type": "code",
   "execution_count": 47,
   "id": "975f51dd",
   "metadata": {},
   "outputs": [
    {
     "data": {
      "text/plain": [
       "0"
      ]
     },
     "execution_count": 47,
     "metadata": {},
     "output_type": "execute_result"
    }
   ],
   "source": [
    "len(set(corr_features))"
   ]
  },
  {
   "cell_type": "code",
   "execution_count": 48,
   "id": "06780c63",
   "metadata": {},
   "outputs": [
    {
     "data": {
      "text/html": [
       "<div>\n",
       "<style scoped>\n",
       "    .dataframe tbody tr th:only-of-type {\n",
       "        vertical-align: middle;\n",
       "    }\n",
       "\n",
       "    .dataframe tbody tr th {\n",
       "        vertical-align: top;\n",
       "    }\n",
       "\n",
       "    .dataframe thead th {\n",
       "        text-align: right;\n",
       "    }\n",
       "</style>\n",
       "<table border=\"1\" class=\"dataframe\">\n",
       "  <thead>\n",
       "    <tr style=\"text-align: right;\">\n",
       "      <th></th>\n",
       "      <th>0</th>\n",
       "      <th>1</th>\n",
       "      <th>2</th>\n",
       "      <th>3</th>\n",
       "      <th>4</th>\n",
       "      <th>5</th>\n",
       "      <th>6</th>\n",
       "      <th>7</th>\n",
       "      <th>8</th>\n",
       "      <th>9</th>\n",
       "      <th>...</th>\n",
       "      <th>165</th>\n",
       "      <th>166</th>\n",
       "      <th>167</th>\n",
       "      <th>168</th>\n",
       "      <th>169</th>\n",
       "      <th>170</th>\n",
       "      <th>171</th>\n",
       "      <th>172</th>\n",
       "      <th>173</th>\n",
       "      <th>174</th>\n",
       "    </tr>\n",
       "  </thead>\n",
       "  <tbody>\n",
       "    <tr>\n",
       "      <th>0</th>\n",
       "      <td>1.000000e+00</td>\n",
       "      <td>-2.233490e-16</td>\n",
       "      <td>6.359522e-17</td>\n",
       "      <td>-4.362088e-17</td>\n",
       "      <td>-9.342671e-17</td>\n",
       "      <td>-9.048533e-18</td>\n",
       "      <td>-1.041830e-16</td>\n",
       "      <td>1.725581e-17</td>\n",
       "      <td>2.850352e-18</td>\n",
       "      <td>5.856865e-17</td>\n",
       "      <td>...</td>\n",
       "      <td>-1.756233e-17</td>\n",
       "      <td>3.306573e-17</td>\n",
       "      <td>-8.348188e-18</td>\n",
       "      <td>-4.629266e-17</td>\n",
       "      <td>2.429643e-17</td>\n",
       "      <td>-8.947972e-18</td>\n",
       "      <td>3.281903e-17</td>\n",
       "      <td>-1.826762e-17</td>\n",
       "      <td>-1.292413e-17</td>\n",
       "      <td>-7.328290e-18</td>\n",
       "    </tr>\n",
       "    <tr>\n",
       "      <th>1</th>\n",
       "      <td>-2.233490e-16</td>\n",
       "      <td>1.000000e+00</td>\n",
       "      <td>2.788004e-16</td>\n",
       "      <td>-6.029539e-16</td>\n",
       "      <td>-1.512311e-16</td>\n",
       "      <td>-9.651368e-17</td>\n",
       "      <td>-4.364362e-17</td>\n",
       "      <td>-2.926889e-16</td>\n",
       "      <td>2.531912e-16</td>\n",
       "      <td>1.658420e-16</td>\n",
       "      <td>...</td>\n",
       "      <td>-5.764371e-18</td>\n",
       "      <td>7.027999e-18</td>\n",
       "      <td>-3.649453e-17</td>\n",
       "      <td>-4.917498e-17</td>\n",
       "      <td>-3.358838e-17</td>\n",
       "      <td>-6.432300e-18</td>\n",
       "      <td>-5.791159e-17</td>\n",
       "      <td>-1.955541e-17</td>\n",
       "      <td>-4.314382e-20</td>\n",
       "      <td>-4.001093e-17</td>\n",
       "    </tr>\n",
       "    <tr>\n",
       "      <th>2</th>\n",
       "      <td>6.359522e-17</td>\n",
       "      <td>2.788004e-16</td>\n",
       "      <td>1.000000e+00</td>\n",
       "      <td>1.567488e-16</td>\n",
       "      <td>-1.072136e-17</td>\n",
       "      <td>2.368771e-16</td>\n",
       "      <td>7.497101e-16</td>\n",
       "      <td>-1.025603e-16</td>\n",
       "      <td>-1.012100e-16</td>\n",
       "      <td>2.474229e-16</td>\n",
       "      <td>...</td>\n",
       "      <td>1.482765e-17</td>\n",
       "      <td>8.866765e-18</td>\n",
       "      <td>5.745657e-17</td>\n",
       "      <td>5.241430e-18</td>\n",
       "      <td>-2.452840e-17</td>\n",
       "      <td>-9.618656e-17</td>\n",
       "      <td>1.135778e-18</td>\n",
       "      <td>3.783718e-17</td>\n",
       "      <td>2.357050e-17</td>\n",
       "      <td>6.161848e-17</td>\n",
       "    </tr>\n",
       "    <tr>\n",
       "      <th>3</th>\n",
       "      <td>-4.362088e-17</td>\n",
       "      <td>-6.029539e-16</td>\n",
       "      <td>1.567488e-16</td>\n",
       "      <td>1.000000e+00</td>\n",
       "      <td>-8.677515e-16</td>\n",
       "      <td>-6.904516e-17</td>\n",
       "      <td>8.635577e-16</td>\n",
       "      <td>-1.121319e-16</td>\n",
       "      <td>-3.992265e-16</td>\n",
       "      <td>-2.711585e-16</td>\n",
       "      <td>...</td>\n",
       "      <td>4.577340e-17</td>\n",
       "      <td>-2.022748e-17</td>\n",
       "      <td>-2.546476e-17</td>\n",
       "      <td>-6.165113e-17</td>\n",
       "      <td>1.804007e-17</td>\n",
       "      <td>-3.595559e-18</td>\n",
       "      <td>-9.161775e-17</td>\n",
       "      <td>-1.948742e-16</td>\n",
       "      <td>8.096355e-17</td>\n",
       "      <td>-3.850294e-17</td>\n",
       "    </tr>\n",
       "    <tr>\n",
       "      <th>4</th>\n",
       "      <td>-9.342671e-17</td>\n",
       "      <td>-1.512311e-16</td>\n",
       "      <td>-1.072136e-17</td>\n",
       "      <td>-8.677515e-16</td>\n",
       "      <td>1.000000e+00</td>\n",
       "      <td>-9.199984e-16</td>\n",
       "      <td>-8.692006e-16</td>\n",
       "      <td>7.014352e-16</td>\n",
       "      <td>-6.536940e-16</td>\n",
       "      <td>5.005485e-17</td>\n",
       "      <td>...</td>\n",
       "      <td>-7.947698e-17</td>\n",
       "      <td>1.652497e-18</td>\n",
       "      <td>-4.963205e-17</td>\n",
       "      <td>-2.090875e-17</td>\n",
       "      <td>-9.192165e-18</td>\n",
       "      <td>-1.299171e-16</td>\n",
       "      <td>-4.994339e-17</td>\n",
       "      <td>-6.242625e-17</td>\n",
       "      <td>-9.534829e-17</td>\n",
       "      <td>-6.234269e-17</td>\n",
       "    </tr>\n",
       "    <tr>\n",
       "      <th>...</th>\n",
       "      <td>...</td>\n",
       "      <td>...</td>\n",
       "      <td>...</td>\n",
       "      <td>...</td>\n",
       "      <td>...</td>\n",
       "      <td>...</td>\n",
       "      <td>...</td>\n",
       "      <td>...</td>\n",
       "      <td>...</td>\n",
       "      <td>...</td>\n",
       "      <td>...</td>\n",
       "      <td>...</td>\n",
       "      <td>...</td>\n",
       "      <td>...</td>\n",
       "      <td>...</td>\n",
       "      <td>...</td>\n",
       "      <td>...</td>\n",
       "      <td>...</td>\n",
       "      <td>...</td>\n",
       "      <td>...</td>\n",
       "      <td>...</td>\n",
       "    </tr>\n",
       "    <tr>\n",
       "      <th>170</th>\n",
       "      <td>-8.947972e-18</td>\n",
       "      <td>-6.432300e-18</td>\n",
       "      <td>-9.618656e-17</td>\n",
       "      <td>-3.595559e-18</td>\n",
       "      <td>-1.299171e-16</td>\n",
       "      <td>-6.640857e-18</td>\n",
       "      <td>-3.322019e-17</td>\n",
       "      <td>4.670769e-17</td>\n",
       "      <td>-3.701454e-17</td>\n",
       "      <td>1.066052e-17</td>\n",
       "      <td>...</td>\n",
       "      <td>1.038134e-17</td>\n",
       "      <td>-6.505411e-17</td>\n",
       "      <td>-1.270721e-16</td>\n",
       "      <td>9.164648e-16</td>\n",
       "      <td>-3.596770e-16</td>\n",
       "      <td>1.000000e+00</td>\n",
       "      <td>-5.674231e-16</td>\n",
       "      <td>7.807344e-17</td>\n",
       "      <td>6.122164e-16</td>\n",
       "      <td>9.811858e-17</td>\n",
       "    </tr>\n",
       "    <tr>\n",
       "      <th>171</th>\n",
       "      <td>3.281903e-17</td>\n",
       "      <td>-5.791159e-17</td>\n",
       "      <td>1.135778e-18</td>\n",
       "      <td>-9.161775e-17</td>\n",
       "      <td>-4.994339e-17</td>\n",
       "      <td>1.201632e-16</td>\n",
       "      <td>6.443585e-17</td>\n",
       "      <td>-3.196053e-17</td>\n",
       "      <td>1.534188e-18</td>\n",
       "      <td>9.366354e-17</td>\n",
       "      <td>...</td>\n",
       "      <td>-2.163891e-16</td>\n",
       "      <td>2.515298e-16</td>\n",
       "      <td>1.240524e-16</td>\n",
       "      <td>1.017731e-16</td>\n",
       "      <td>9.777174e-18</td>\n",
       "      <td>-5.674231e-16</td>\n",
       "      <td>1.000000e+00</td>\n",
       "      <td>1.241737e-16</td>\n",
       "      <td>4.090570e-17</td>\n",
       "      <td>6.037897e-17</td>\n",
       "    </tr>\n",
       "    <tr>\n",
       "      <th>172</th>\n",
       "      <td>-1.826762e-17</td>\n",
       "      <td>-1.955541e-17</td>\n",
       "      <td>3.783718e-17</td>\n",
       "      <td>-1.948742e-16</td>\n",
       "      <td>-6.242625e-17</td>\n",
       "      <td>1.238239e-16</td>\n",
       "      <td>7.997731e-18</td>\n",
       "      <td>-1.031875e-16</td>\n",
       "      <td>-2.033699e-17</td>\n",
       "      <td>-4.868009e-17</td>\n",
       "      <td>...</td>\n",
       "      <td>-1.386022e-16</td>\n",
       "      <td>7.623025e-17</td>\n",
       "      <td>2.040841e-16</td>\n",
       "      <td>4.033411e-16</td>\n",
       "      <td>3.539635e-16</td>\n",
       "      <td>7.807344e-17</td>\n",
       "      <td>1.241737e-16</td>\n",
       "      <td>1.000000e+00</td>\n",
       "      <td>4.579325e-16</td>\n",
       "      <td>-3.682239e-16</td>\n",
       "    </tr>\n",
       "    <tr>\n",
       "      <th>173</th>\n",
       "      <td>-1.292413e-17</td>\n",
       "      <td>-4.314382e-20</td>\n",
       "      <td>2.357050e-17</td>\n",
       "      <td>8.096355e-17</td>\n",
       "      <td>-9.534829e-17</td>\n",
       "      <td>-1.409038e-17</td>\n",
       "      <td>1.560141e-17</td>\n",
       "      <td>-5.685930e-18</td>\n",
       "      <td>-1.722141e-17</td>\n",
       "      <td>2.219815e-17</td>\n",
       "      <td>...</td>\n",
       "      <td>-1.650978e-17</td>\n",
       "      <td>-1.926557e-16</td>\n",
       "      <td>1.059757e-17</td>\n",
       "      <td>1.170793e-16</td>\n",
       "      <td>-8.979715e-17</td>\n",
       "      <td>6.122164e-16</td>\n",
       "      <td>4.090570e-17</td>\n",
       "      <td>4.579325e-16</td>\n",
       "      <td>1.000000e+00</td>\n",
       "      <td>2.251867e-17</td>\n",
       "    </tr>\n",
       "    <tr>\n",
       "      <th>174</th>\n",
       "      <td>-7.328290e-18</td>\n",
       "      <td>-4.001093e-17</td>\n",
       "      <td>6.161848e-17</td>\n",
       "      <td>-3.850294e-17</td>\n",
       "      <td>-6.234269e-17</td>\n",
       "      <td>-3.848862e-18</td>\n",
       "      <td>9.643204e-17</td>\n",
       "      <td>5.970186e-17</td>\n",
       "      <td>2.495994e-17</td>\n",
       "      <td>-3.893084e-17</td>\n",
       "      <td>...</td>\n",
       "      <td>3.702145e-16</td>\n",
       "      <td>2.180856e-16</td>\n",
       "      <td>7.479591e-16</td>\n",
       "      <td>7.369462e-16</td>\n",
       "      <td>2.517310e-17</td>\n",
       "      <td>9.811858e-17</td>\n",
       "      <td>6.037897e-17</td>\n",
       "      <td>-3.682239e-16</td>\n",
       "      <td>2.251867e-17</td>\n",
       "      <td>1.000000e+00</td>\n",
       "    </tr>\n",
       "  </tbody>\n",
       "</table>\n",
       "<p>175 rows × 175 columns</p>\n",
       "</div>"
      ],
      "text/plain": [
       "              0             1             2             3             4    \\\n",
       "0    1.000000e+00 -2.233490e-16  6.359522e-17 -4.362088e-17 -9.342671e-17   \n",
       "1   -2.233490e-16  1.000000e+00  2.788004e-16 -6.029539e-16 -1.512311e-16   \n",
       "2    6.359522e-17  2.788004e-16  1.000000e+00  1.567488e-16 -1.072136e-17   \n",
       "3   -4.362088e-17 -6.029539e-16  1.567488e-16  1.000000e+00 -8.677515e-16   \n",
       "4   -9.342671e-17 -1.512311e-16 -1.072136e-17 -8.677515e-16  1.000000e+00   \n",
       "..            ...           ...           ...           ...           ...   \n",
       "170 -8.947972e-18 -6.432300e-18 -9.618656e-17 -3.595559e-18 -1.299171e-16   \n",
       "171  3.281903e-17 -5.791159e-17  1.135778e-18 -9.161775e-17 -4.994339e-17   \n",
       "172 -1.826762e-17 -1.955541e-17  3.783718e-17 -1.948742e-16 -6.242625e-17   \n",
       "173 -1.292413e-17 -4.314382e-20  2.357050e-17  8.096355e-17 -9.534829e-17   \n",
       "174 -7.328290e-18 -4.001093e-17  6.161848e-17 -3.850294e-17 -6.234269e-17   \n",
       "\n",
       "              5             6             7             8             9    \\\n",
       "0   -9.048533e-18 -1.041830e-16  1.725581e-17  2.850352e-18  5.856865e-17   \n",
       "1   -9.651368e-17 -4.364362e-17 -2.926889e-16  2.531912e-16  1.658420e-16   \n",
       "2    2.368771e-16  7.497101e-16 -1.025603e-16 -1.012100e-16  2.474229e-16   \n",
       "3   -6.904516e-17  8.635577e-16 -1.121319e-16 -3.992265e-16 -2.711585e-16   \n",
       "4   -9.199984e-16 -8.692006e-16  7.014352e-16 -6.536940e-16  5.005485e-17   \n",
       "..            ...           ...           ...           ...           ...   \n",
       "170 -6.640857e-18 -3.322019e-17  4.670769e-17 -3.701454e-17  1.066052e-17   \n",
       "171  1.201632e-16  6.443585e-17 -3.196053e-17  1.534188e-18  9.366354e-17   \n",
       "172  1.238239e-16  7.997731e-18 -1.031875e-16 -2.033699e-17 -4.868009e-17   \n",
       "173 -1.409038e-17  1.560141e-17 -5.685930e-18 -1.722141e-17  2.219815e-17   \n",
       "174 -3.848862e-18  9.643204e-17  5.970186e-17  2.495994e-17 -3.893084e-17   \n",
       "\n",
       "     ...           165           166           167           168  \\\n",
       "0    ... -1.756233e-17  3.306573e-17 -8.348188e-18 -4.629266e-17   \n",
       "1    ... -5.764371e-18  7.027999e-18 -3.649453e-17 -4.917498e-17   \n",
       "2    ...  1.482765e-17  8.866765e-18  5.745657e-17  5.241430e-18   \n",
       "3    ...  4.577340e-17 -2.022748e-17 -2.546476e-17 -6.165113e-17   \n",
       "4    ... -7.947698e-17  1.652497e-18 -4.963205e-17 -2.090875e-17   \n",
       "..   ...           ...           ...           ...           ...   \n",
       "170  ...  1.038134e-17 -6.505411e-17 -1.270721e-16  9.164648e-16   \n",
       "171  ... -2.163891e-16  2.515298e-16  1.240524e-16  1.017731e-16   \n",
       "172  ... -1.386022e-16  7.623025e-17  2.040841e-16  4.033411e-16   \n",
       "173  ... -1.650978e-17 -1.926557e-16  1.059757e-17  1.170793e-16   \n",
       "174  ...  3.702145e-16  2.180856e-16  7.479591e-16  7.369462e-16   \n",
       "\n",
       "              169           170           171           172           173  \\\n",
       "0    2.429643e-17 -8.947972e-18  3.281903e-17 -1.826762e-17 -1.292413e-17   \n",
       "1   -3.358838e-17 -6.432300e-18 -5.791159e-17 -1.955541e-17 -4.314382e-20   \n",
       "2   -2.452840e-17 -9.618656e-17  1.135778e-18  3.783718e-17  2.357050e-17   \n",
       "3    1.804007e-17 -3.595559e-18 -9.161775e-17 -1.948742e-16  8.096355e-17   \n",
       "4   -9.192165e-18 -1.299171e-16 -4.994339e-17 -6.242625e-17 -9.534829e-17   \n",
       "..            ...           ...           ...           ...           ...   \n",
       "170 -3.596770e-16  1.000000e+00 -5.674231e-16  7.807344e-17  6.122164e-16   \n",
       "171  9.777174e-18 -5.674231e-16  1.000000e+00  1.241737e-16  4.090570e-17   \n",
       "172  3.539635e-16  7.807344e-17  1.241737e-16  1.000000e+00  4.579325e-16   \n",
       "173 -8.979715e-17  6.122164e-16  4.090570e-17  4.579325e-16  1.000000e+00   \n",
       "174  2.517310e-17  9.811858e-17  6.037897e-17 -3.682239e-16  2.251867e-17   \n",
       "\n",
       "              174  \n",
       "0   -7.328290e-18  \n",
       "1   -4.001093e-17  \n",
       "2    6.161848e-17  \n",
       "3   -3.850294e-17  \n",
       "4   -6.234269e-17  \n",
       "..            ...  \n",
       "170  9.811858e-17  \n",
       "171  6.037897e-17  \n",
       "172 -3.682239e-16  \n",
       "173  2.251867e-17  \n",
       "174  1.000000e+00  \n",
       "\n",
       "[175 rows x 175 columns]"
      ]
     },
     "execution_count": 48,
     "metadata": {},
     "output_type": "execute_result"
    }
   ],
   "source": [
    "pca_train_df.corr()"
   ]
  },
  {
   "cell_type": "markdown",
   "id": "f92d8302",
   "metadata": {},
   "source": [
    "#### Recursive Feature Elimination "
   ]
  },
  {
   "cell_type": "code",
   "execution_count": 49,
   "id": "b5659977",
   "metadata": {},
   "outputs": [],
   "source": [
    "from sklearn.model_selection import cross_val_score\n",
    "from sklearn.feature_selection import RFE"
   ]
  },
  {
   "cell_type": "code",
   "execution_count": 50,
   "id": "4fa611a0",
   "metadata": {},
   "outputs": [],
   "source": [
    "from xgboost import XGBRegressor\n",
    "rfe = RFE(estimator=XGBRegressor(), n_features_to_select=10)\n"
   ]
  },
  {
   "cell_type": "code",
   "execution_count": 51,
   "id": "22a47880",
   "metadata": {},
   "outputs": [],
   "source": [
    "X = pca_train_df\n",
    "y = train['y']"
   ]
  },
  {
   "cell_type": "code",
   "execution_count": 52,
   "id": "7139f490",
   "metadata": {},
   "outputs": [
    {
     "data": {
      "text/html": [
       "<style>#sk-container-id-2 {color: black;background-color: white;}#sk-container-id-2 pre{padding: 0;}#sk-container-id-2 div.sk-toggleable {background-color: white;}#sk-container-id-2 label.sk-toggleable__label {cursor: pointer;display: block;width: 100%;margin-bottom: 0;padding: 0.3em;box-sizing: border-box;text-align: center;}#sk-container-id-2 label.sk-toggleable__label-arrow:before {content: \"▸\";float: left;margin-right: 0.25em;color: #696969;}#sk-container-id-2 label.sk-toggleable__label-arrow:hover:before {color: black;}#sk-container-id-2 div.sk-estimator:hover label.sk-toggleable__label-arrow:before {color: black;}#sk-container-id-2 div.sk-toggleable__content {max-height: 0;max-width: 0;overflow: hidden;text-align: left;background-color: #f0f8ff;}#sk-container-id-2 div.sk-toggleable__content pre {margin: 0.2em;color: black;border-radius: 0.25em;background-color: #f0f8ff;}#sk-container-id-2 input.sk-toggleable__control:checked~div.sk-toggleable__content {max-height: 200px;max-width: 100%;overflow: auto;}#sk-container-id-2 input.sk-toggleable__control:checked~label.sk-toggleable__label-arrow:before {content: \"▾\";}#sk-container-id-2 div.sk-estimator input.sk-toggleable__control:checked~label.sk-toggleable__label {background-color: #d4ebff;}#sk-container-id-2 div.sk-label input.sk-toggleable__control:checked~label.sk-toggleable__label {background-color: #d4ebff;}#sk-container-id-2 input.sk-hidden--visually {border: 0;clip: rect(1px 1px 1px 1px);clip: rect(1px, 1px, 1px, 1px);height: 1px;margin: -1px;overflow: hidden;padding: 0;position: absolute;width: 1px;}#sk-container-id-2 div.sk-estimator {font-family: monospace;background-color: #f0f8ff;border: 1px dotted black;border-radius: 0.25em;box-sizing: border-box;margin-bottom: 0.5em;}#sk-container-id-2 div.sk-estimator:hover {background-color: #d4ebff;}#sk-container-id-2 div.sk-parallel-item::after {content: \"\";width: 100%;border-bottom: 1px solid gray;flex-grow: 1;}#sk-container-id-2 div.sk-label:hover label.sk-toggleable__label {background-color: #d4ebff;}#sk-container-id-2 div.sk-serial::before {content: \"\";position: absolute;border-left: 1px solid gray;box-sizing: border-box;top: 0;bottom: 0;left: 50%;z-index: 0;}#sk-container-id-2 div.sk-serial {display: flex;flex-direction: column;align-items: center;background-color: white;padding-right: 0.2em;padding-left: 0.2em;position: relative;}#sk-container-id-2 div.sk-item {position: relative;z-index: 1;}#sk-container-id-2 div.sk-parallel {display: flex;align-items: stretch;justify-content: center;background-color: white;position: relative;}#sk-container-id-2 div.sk-item::before, #sk-container-id-2 div.sk-parallel-item::before {content: \"\";position: absolute;border-left: 1px solid gray;box-sizing: border-box;top: 0;bottom: 0;left: 50%;z-index: -1;}#sk-container-id-2 div.sk-parallel-item {display: flex;flex-direction: column;z-index: 1;position: relative;background-color: white;}#sk-container-id-2 div.sk-parallel-item:first-child::after {align-self: flex-end;width: 50%;}#sk-container-id-2 div.sk-parallel-item:last-child::after {align-self: flex-start;width: 50%;}#sk-container-id-2 div.sk-parallel-item:only-child::after {width: 0;}#sk-container-id-2 div.sk-dashed-wrapped {border: 1px dashed gray;margin: 0 0.4em 0.5em 0.4em;box-sizing: border-box;padding-bottom: 0.4em;background-color: white;}#sk-container-id-2 div.sk-label label {font-family: monospace;font-weight: bold;display: inline-block;line-height: 1.2em;}#sk-container-id-2 div.sk-label-container {text-align: center;}#sk-container-id-2 div.sk-container {/* jupyter's `normalize.less` sets `[hidden] { display: none; }` but bootstrap.min.css set `[hidden] { display: none !important; }` so we also need the `!important` here to be able to override the default hidden behavior on the sphinx rendered scikit-learn.org. See: https://github.com/scikit-learn/scikit-learn/issues/21755 */display: inline-block !important;position: relative;}#sk-container-id-2 div.sk-text-repr-fallback {display: none;}</style><div id=\"sk-container-id-2\" class=\"sk-top-container\"><div class=\"sk-text-repr-fallback\"><pre>RFE(estimator=XGBRegressor(base_score=None, booster=None,\n",
       "                           colsample_bylevel=None, colsample_bynode=None,\n",
       "                           colsample_bytree=None, enable_categorical=False,\n",
       "                           gamma=None, gpu_id=None, importance_type=None,\n",
       "                           interaction_constraints=None, learning_rate=None,\n",
       "                           max_delta_step=None, max_depth=None,\n",
       "                           min_child_weight=None, missing=nan,\n",
       "                           monotone_constraints=None, n_estimators=100,\n",
       "                           n_jobs=None, num_parallel_tree=None, predictor=None,\n",
       "                           random_state=None, reg_alpha=None, reg_lambda=None,\n",
       "                           scale_pos_weight=None, subsample=None,\n",
       "                           tree_method=None, validate_parameters=None,\n",
       "                           verbosity=None),\n",
       "    n_features_to_select=10)</pre><b>In a Jupyter environment, please rerun this cell to show the HTML representation or trust the notebook. <br />On GitHub, the HTML representation is unable to render, please try loading this page with nbviewer.org.</b></div><div class=\"sk-container\" hidden><div class=\"sk-item sk-dashed-wrapped\"><div class=\"sk-label-container\"><div class=\"sk-label sk-toggleable\"><input class=\"sk-toggleable__control sk-hidden--visually\" id=\"sk-estimator-id-2\" type=\"checkbox\" ><label for=\"sk-estimator-id-2\" class=\"sk-toggleable__label sk-toggleable__label-arrow\">RFE</label><div class=\"sk-toggleable__content\"><pre>RFE(estimator=XGBRegressor(base_score=None, booster=None,\n",
       "                           colsample_bylevel=None, colsample_bynode=None,\n",
       "                           colsample_bytree=None, enable_categorical=False,\n",
       "                           gamma=None, gpu_id=None, importance_type=None,\n",
       "                           interaction_constraints=None, learning_rate=None,\n",
       "                           max_delta_step=None, max_depth=None,\n",
       "                           min_child_weight=None, missing=nan,\n",
       "                           monotone_constraints=None, n_estimators=100,\n",
       "                           n_jobs=None, num_parallel_tree=None, predictor=None,\n",
       "                           random_state=None, reg_alpha=None, reg_lambda=None,\n",
       "                           scale_pos_weight=None, subsample=None,\n",
       "                           tree_method=None, validate_parameters=None,\n",
       "                           verbosity=None),\n",
       "    n_features_to_select=10)</pre></div></div></div><div class=\"sk-parallel\"><div class=\"sk-parallel-item\"><div class=\"sk-item\"><div class=\"sk-label-container\"><div class=\"sk-label sk-toggleable\"><input class=\"sk-toggleable__control sk-hidden--visually\" id=\"sk-estimator-id-3\" type=\"checkbox\" ><label for=\"sk-estimator-id-3\" class=\"sk-toggleable__label sk-toggleable__label-arrow\">estimator: XGBRegressor</label><div class=\"sk-toggleable__content\"><pre>XGBRegressor(base_score=None, booster=None, colsample_bylevel=None,\n",
       "             colsample_bynode=None, colsample_bytree=None,\n",
       "             enable_categorical=False, gamma=None, gpu_id=None,\n",
       "             importance_type=None, interaction_constraints=None,\n",
       "             learning_rate=None, max_delta_step=None, max_depth=None,\n",
       "             min_child_weight=None, missing=nan, monotone_constraints=None,\n",
       "             n_estimators=100, n_jobs=None, num_parallel_tree=None,\n",
       "             predictor=None, random_state=None, reg_alpha=None, reg_lambda=None,\n",
       "             scale_pos_weight=None, subsample=None, tree_method=None,\n",
       "             validate_parameters=None, verbosity=None)</pre></div></div></div><div class=\"sk-serial\"><div class=\"sk-item\"><div class=\"sk-estimator sk-toggleable\"><input class=\"sk-toggleable__control sk-hidden--visually\" id=\"sk-estimator-id-4\" type=\"checkbox\" ><label for=\"sk-estimator-id-4\" class=\"sk-toggleable__label sk-toggleable__label-arrow\">XGBRegressor</label><div class=\"sk-toggleable__content\"><pre>XGBRegressor(base_score=None, booster=None, colsample_bylevel=None,\n",
       "             colsample_bynode=None, colsample_bytree=None,\n",
       "             enable_categorical=False, gamma=None, gpu_id=None,\n",
       "             importance_type=None, interaction_constraints=None,\n",
       "             learning_rate=None, max_delta_step=None, max_depth=None,\n",
       "             min_child_weight=None, missing=nan, monotone_constraints=None,\n",
       "             n_estimators=100, n_jobs=None, num_parallel_tree=None,\n",
       "             predictor=None, random_state=None, reg_alpha=None, reg_lambda=None,\n",
       "             scale_pos_weight=None, subsample=None, tree_method=None,\n",
       "             validate_parameters=None, verbosity=None)</pre></div></div></div></div></div></div></div></div></div></div>"
      ],
      "text/plain": [
       "RFE(estimator=XGBRegressor(base_score=None, booster=None,\n",
       "                           colsample_bylevel=None, colsample_bynode=None,\n",
       "                           colsample_bytree=None, enable_categorical=False,\n",
       "                           gamma=None, gpu_id=None, importance_type=None,\n",
       "                           interaction_constraints=None, learning_rate=None,\n",
       "                           max_delta_step=None, max_depth=None,\n",
       "                           min_child_weight=None, missing=nan,\n",
       "                           monotone_constraints=None, n_estimators=100,\n",
       "                           n_jobs=None, num_parallel_tree=None, predictor=None,\n",
       "                           random_state=None, reg_alpha=None, reg_lambda=None,\n",
       "                           scale_pos_weight=None, subsample=None,\n",
       "                           tree_method=None, validate_parameters=None,\n",
       "                           verbosity=None),\n",
       "    n_features_to_select=10)"
      ]
     },
     "execution_count": 52,
     "metadata": {},
     "output_type": "execute_result"
    }
   ],
   "source": [
    "rfe.fit(X, y)"
   ]
  },
  {
   "cell_type": "code",
   "execution_count": 53,
   "id": "dd6e8a2d",
   "metadata": {},
   "outputs": [],
   "source": [
    "# transform the data\n",
    "X1 = rfe.transform(X)"
   ]
  },
  {
   "cell_type": "code",
   "execution_count": 54,
   "id": "9a979896",
   "metadata": {},
   "outputs": [],
   "source": [
    "f = rfe.get_support(1)"
   ]
  },
  {
   "cell_type": "code",
   "execution_count": 55,
   "id": "35a424c6",
   "metadata": {},
   "outputs": [
    {
     "data": {
      "text/plain": [
       "array([  1,   3,   4,   5,  19,  28, 155, 158, 159, 164], dtype=int64)"
      ]
     },
     "execution_count": 55,
     "metadata": {},
     "output_type": "execute_result"
    }
   ],
   "source": [
    "f"
   ]
  },
  {
   "cell_type": "code",
   "execution_count": 56,
   "id": "f478ba23",
   "metadata": {},
   "outputs": [],
   "source": [
    "from sklearn.model_selection import train_test_split\n",
    "X_train, X_test, y_train, y_test = train_test_split(X1, y, test_size=0.2, random_state=42)"
   ]
  },
  {
   "cell_type": "code",
   "execution_count": 57,
   "id": "2f1889be",
   "metadata": {},
   "outputs": [],
   "source": [
    "from sklearn.metrics import r2_score, mean_squared_error, mean_absolute_error\n",
    "import xgboost as xg"
   ]
  },
  {
   "cell_type": "code",
   "execution_count": 58,
   "id": "49a6b5da",
   "metadata": {},
   "outputs": [
    {
     "data": {
      "text/plain": [
       "0.8074028691307951"
      ]
     },
     "execution_count": 58,
     "metadata": {},
     "output_type": "execute_result"
    }
   ],
   "source": [
    "xregressor = XGBRegressor(n_estimators=1000, max_depth=7, eta=0.1, subsample=0.7, colsample_bytree=0.8)\n",
    "xregressor.fit(X_train, y_train)\n",
    "pred = xregressor.predict(X_test)\n",
    "r2_score(y_test,pred)"
   ]
  },
  {
   "cell_type": "code",
   "execution_count": 59,
   "id": "a4670fe0",
   "metadata": {},
   "outputs": [],
   "source": [
    "# Predicting test dataset"
   ]
  },
  {
   "cell_type": "code",
   "execution_count": 60,
   "id": "51ecacae",
   "metadata": {},
   "outputs": [
    {
     "data": {
      "text/plain": [
       "1"
      ]
     },
     "execution_count": 60,
     "metadata": {},
     "output_type": "execute_result"
    }
   ],
   "source": [
    "pca_train_df.columns[1]"
   ]
  },
  {
   "cell_type": "code",
   "execution_count": 61,
   "id": "c507c14e",
   "metadata": {},
   "outputs": [],
   "source": [
    "pca_test_df1 = pca_test_df[[1,3,4,5,19,28,155,158,159,164]]"
   ]
  },
  {
   "cell_type": "code",
   "execution_count": 62,
   "id": "e7d72d92",
   "metadata": {},
   "outputs": [],
   "source": [
    "xregressor.fit(X1, y)\n",
    "pred_test = xregressor.predict(pca_test_df1)"
   ]
  },
  {
   "cell_type": "code",
   "execution_count": 63,
   "id": "250ee9b0",
   "metadata": {},
   "outputs": [
    {
     "data": {
      "text/plain": [
       "array([118.34643 , 101.18279 ,  75.48714 , ..., 111.859985,  88.34218 ,\n",
       "       102.781235], dtype=float32)"
      ]
     },
     "execution_count": 63,
     "metadata": {},
     "output_type": "execute_result"
    }
   ],
   "source": [
    "pred_test"
   ]
  },
  {
   "cell_type": "markdown",
   "id": "1217f7ec",
   "metadata": {},
   "source": [
    "#### Predict your test_df values using XGBoost."
   ]
  },
  {
   "cell_type": "code",
   "execution_count": 318,
   "id": "afd2cd65",
   "metadata": {},
   "outputs": [],
   "source": [
    "parameters = {'nthread':[4], #when use hyperthread, xgboost may become slower\n",
    "              'objective':['reg:linear'],\n",
    "              'learning_rate': [.08, 0.1, .12], #so called `eta` value\n",
    "              'max_depth': [5, 7, 9],\n",
    "              'min_child_weight': [4],\n",
    "              'silent': [1],\n",
    "              'subsample': [0.7],\n",
    "              'colsample_bytree': [0.8],\n",
    "              'n_estimators': [800,1000,1200]}"
   ]
  },
  {
   "cell_type": "code",
   "execution_count": 319,
   "id": "be75bb7f",
   "metadata": {},
   "outputs": [],
   "source": [
    "xgbr = XGBRegressor()\n"
   ]
  },
  {
   "cell_type": "code",
   "execution_count": 321,
   "id": "8065615a",
   "metadata": {},
   "outputs": [
    {
     "name": "stdout",
     "output_type": "stream",
     "text": [
      "Fitting 2 folds for each of 27 candidates, totalling 54 fits\n",
      "[21:21:06] WARNING: c:\\ci\\xgboost-split_1638290375667\\work\\src\\objective\\regression_obj.cu:188: reg:linear is now deprecated in favor of reg:squarederror.\n",
      "[21:21:06] WARNING: ..\\src\\learner.cc:576: \n",
      "Parameters: { \"silent\" } might not be used.\n",
      "\n",
      "  This could be a false alarm, with some parameters getting used by language bindings but\n",
      "  then being mistakenly passed down to XGBoost core, or some parameter actually being used\n",
      "  but getting flagged wrongly here. Please open an issue if you find any such cases.\n",
      "\n",
      "\n"
     ]
    },
    {
     "data": {
      "text/html": [
       "<style>#sk-container-id-2 {color: black;background-color: white;}#sk-container-id-2 pre{padding: 0;}#sk-container-id-2 div.sk-toggleable {background-color: white;}#sk-container-id-2 label.sk-toggleable__label {cursor: pointer;display: block;width: 100%;margin-bottom: 0;padding: 0.3em;box-sizing: border-box;text-align: center;}#sk-container-id-2 label.sk-toggleable__label-arrow:before {content: \"▸\";float: left;margin-right: 0.25em;color: #696969;}#sk-container-id-2 label.sk-toggleable__label-arrow:hover:before {color: black;}#sk-container-id-2 div.sk-estimator:hover label.sk-toggleable__label-arrow:before {color: black;}#sk-container-id-2 div.sk-toggleable__content {max-height: 0;max-width: 0;overflow: hidden;text-align: left;background-color: #f0f8ff;}#sk-container-id-2 div.sk-toggleable__content pre {margin: 0.2em;color: black;border-radius: 0.25em;background-color: #f0f8ff;}#sk-container-id-2 input.sk-toggleable__control:checked~div.sk-toggleable__content {max-height: 200px;max-width: 100%;overflow: auto;}#sk-container-id-2 input.sk-toggleable__control:checked~label.sk-toggleable__label-arrow:before {content: \"▾\";}#sk-container-id-2 div.sk-estimator input.sk-toggleable__control:checked~label.sk-toggleable__label {background-color: #d4ebff;}#sk-container-id-2 div.sk-label input.sk-toggleable__control:checked~label.sk-toggleable__label {background-color: #d4ebff;}#sk-container-id-2 input.sk-hidden--visually {border: 0;clip: rect(1px 1px 1px 1px);clip: rect(1px, 1px, 1px, 1px);height: 1px;margin: -1px;overflow: hidden;padding: 0;position: absolute;width: 1px;}#sk-container-id-2 div.sk-estimator {font-family: monospace;background-color: #f0f8ff;border: 1px dotted black;border-radius: 0.25em;box-sizing: border-box;margin-bottom: 0.5em;}#sk-container-id-2 div.sk-estimator:hover {background-color: #d4ebff;}#sk-container-id-2 div.sk-parallel-item::after {content: \"\";width: 100%;border-bottom: 1px solid gray;flex-grow: 1;}#sk-container-id-2 div.sk-label:hover label.sk-toggleable__label {background-color: #d4ebff;}#sk-container-id-2 div.sk-serial::before {content: \"\";position: absolute;border-left: 1px solid gray;box-sizing: border-box;top: 0;bottom: 0;left: 50%;z-index: 0;}#sk-container-id-2 div.sk-serial {display: flex;flex-direction: column;align-items: center;background-color: white;padding-right: 0.2em;padding-left: 0.2em;position: relative;}#sk-container-id-2 div.sk-item {position: relative;z-index: 1;}#sk-container-id-2 div.sk-parallel {display: flex;align-items: stretch;justify-content: center;background-color: white;position: relative;}#sk-container-id-2 div.sk-item::before, #sk-container-id-2 div.sk-parallel-item::before {content: \"\";position: absolute;border-left: 1px solid gray;box-sizing: border-box;top: 0;bottom: 0;left: 50%;z-index: -1;}#sk-container-id-2 div.sk-parallel-item {display: flex;flex-direction: column;z-index: 1;position: relative;background-color: white;}#sk-container-id-2 div.sk-parallel-item:first-child::after {align-self: flex-end;width: 50%;}#sk-container-id-2 div.sk-parallel-item:last-child::after {align-self: flex-start;width: 50%;}#sk-container-id-2 div.sk-parallel-item:only-child::after {width: 0;}#sk-container-id-2 div.sk-dashed-wrapped {border: 1px dashed gray;margin: 0 0.4em 0.5em 0.4em;box-sizing: border-box;padding-bottom: 0.4em;background-color: white;}#sk-container-id-2 div.sk-label label {font-family: monospace;font-weight: bold;display: inline-block;line-height: 1.2em;}#sk-container-id-2 div.sk-label-container {text-align: center;}#sk-container-id-2 div.sk-container {/* jupyter's `normalize.less` sets `[hidden] { display: none; }` but bootstrap.min.css set `[hidden] { display: none !important; }` so we also need the `!important` here to be able to override the default hidden behavior on the sphinx rendered scikit-learn.org. See: https://github.com/scikit-learn/scikit-learn/issues/21755 */display: inline-block !important;position: relative;}#sk-container-id-2 div.sk-text-repr-fallback {display: none;}</style><div id=\"sk-container-id-2\" class=\"sk-top-container\"><div class=\"sk-text-repr-fallback\"><pre>GridSearchCV(cv=2,\n",
       "             estimator=XGBRegressor(base_score=None, booster=None,\n",
       "                                    colsample_bylevel=None,\n",
       "                                    colsample_bynode=None,\n",
       "                                    colsample_bytree=None,\n",
       "                                    enable_categorical=False, gamma=None,\n",
       "                                    gpu_id=None, importance_type=None,\n",
       "                                    interaction_constraints=None,\n",
       "                                    learning_rate=None, max_delta_step=None,\n",
       "                                    max_depth=None, min_child_weight=None,\n",
       "                                    missing=nan, monotone_constraints=None,\n",
       "                                    n...\n",
       "                                    random_state=None, reg_alpha=None,\n",
       "                                    reg_lambda=None, scale_pos_weight=None,\n",
       "                                    subsample=None, tree_method=None,\n",
       "                                    validate_parameters=None, verbosity=None),\n",
       "             n_jobs=5,\n",
       "             param_grid={&#x27;colsample_bytree&#x27;: [0.8],\n",
       "                         &#x27;learning_rate&#x27;: [0.08, 0.1, 0.12],\n",
       "                         &#x27;max_depth&#x27;: [5, 7, 9], &#x27;min_child_weight&#x27;: [4],\n",
       "                         &#x27;n_estimators&#x27;: [800, 1000, 1200], &#x27;nthread&#x27;: [4],\n",
       "                         &#x27;objective&#x27;: [&#x27;reg:linear&#x27;], &#x27;silent&#x27;: [1],\n",
       "                         &#x27;subsample&#x27;: [0.7]},\n",
       "             verbose=True)</pre><b>In a Jupyter environment, please rerun this cell to show the HTML representation or trust the notebook. <br />On GitHub, the HTML representation is unable to render, please try loading this page with nbviewer.org.</b></div><div class=\"sk-container\" hidden><div class=\"sk-item sk-dashed-wrapped\"><div class=\"sk-label-container\"><div class=\"sk-label sk-toggleable\"><input class=\"sk-toggleable__control sk-hidden--visually\" id=\"sk-estimator-id-2\" type=\"checkbox\" ><label for=\"sk-estimator-id-2\" class=\"sk-toggleable__label sk-toggleable__label-arrow\">GridSearchCV</label><div class=\"sk-toggleable__content\"><pre>GridSearchCV(cv=2,\n",
       "             estimator=XGBRegressor(base_score=None, booster=None,\n",
       "                                    colsample_bylevel=None,\n",
       "                                    colsample_bynode=None,\n",
       "                                    colsample_bytree=None,\n",
       "                                    enable_categorical=False, gamma=None,\n",
       "                                    gpu_id=None, importance_type=None,\n",
       "                                    interaction_constraints=None,\n",
       "                                    learning_rate=None, max_delta_step=None,\n",
       "                                    max_depth=None, min_child_weight=None,\n",
       "                                    missing=nan, monotone_constraints=None,\n",
       "                                    n...\n",
       "                                    random_state=None, reg_alpha=None,\n",
       "                                    reg_lambda=None, scale_pos_weight=None,\n",
       "                                    subsample=None, tree_method=None,\n",
       "                                    validate_parameters=None, verbosity=None),\n",
       "             n_jobs=5,\n",
       "             param_grid={&#x27;colsample_bytree&#x27;: [0.8],\n",
       "                         &#x27;learning_rate&#x27;: [0.08, 0.1, 0.12],\n",
       "                         &#x27;max_depth&#x27;: [5, 7, 9], &#x27;min_child_weight&#x27;: [4],\n",
       "                         &#x27;n_estimators&#x27;: [800, 1000, 1200], &#x27;nthread&#x27;: [4],\n",
       "                         &#x27;objective&#x27;: [&#x27;reg:linear&#x27;], &#x27;silent&#x27;: [1],\n",
       "                         &#x27;subsample&#x27;: [0.7]},\n",
       "             verbose=True)</pre></div></div></div><div class=\"sk-parallel\"><div class=\"sk-parallel-item\"><div class=\"sk-item\"><div class=\"sk-label-container\"><div class=\"sk-label sk-toggleable\"><input class=\"sk-toggleable__control sk-hidden--visually\" id=\"sk-estimator-id-3\" type=\"checkbox\" ><label for=\"sk-estimator-id-3\" class=\"sk-toggleable__label sk-toggleable__label-arrow\">estimator: XGBRegressor</label><div class=\"sk-toggleable__content\"><pre>XGBRegressor(base_score=None, booster=None, colsample_bylevel=None,\n",
       "             colsample_bynode=None, colsample_bytree=None,\n",
       "             enable_categorical=False, gamma=None, gpu_id=None,\n",
       "             importance_type=None, interaction_constraints=None,\n",
       "             learning_rate=None, max_delta_step=None, max_depth=None,\n",
       "             min_child_weight=None, missing=nan, monotone_constraints=None,\n",
       "             n_estimators=100, n_jobs=None, num_parallel_tree=None,\n",
       "             predictor=None, random_state=None, reg_alpha=None, reg_lambda=None,\n",
       "             scale_pos_weight=None, subsample=None, tree_method=None,\n",
       "             validate_parameters=None, verbosity=None)</pre></div></div></div><div class=\"sk-serial\"><div class=\"sk-item\"><div class=\"sk-estimator sk-toggleable\"><input class=\"sk-toggleable__control sk-hidden--visually\" id=\"sk-estimator-id-4\" type=\"checkbox\" ><label for=\"sk-estimator-id-4\" class=\"sk-toggleable__label sk-toggleable__label-arrow\">XGBRegressor</label><div class=\"sk-toggleable__content\"><pre>XGBRegressor(base_score=None, booster=None, colsample_bylevel=None,\n",
       "             colsample_bynode=None, colsample_bytree=None,\n",
       "             enable_categorical=False, gamma=None, gpu_id=None,\n",
       "             importance_type=None, interaction_constraints=None,\n",
       "             learning_rate=None, max_delta_step=None, max_depth=None,\n",
       "             min_child_weight=None, missing=nan, monotone_constraints=None,\n",
       "             n_estimators=100, n_jobs=None, num_parallel_tree=None,\n",
       "             predictor=None, random_state=None, reg_alpha=None, reg_lambda=None,\n",
       "             scale_pos_weight=None, subsample=None, tree_method=None,\n",
       "             validate_parameters=None, verbosity=None)</pre></div></div></div></div></div></div></div></div></div></div>"
      ],
      "text/plain": [
       "GridSearchCV(cv=2,\n",
       "             estimator=XGBRegressor(base_score=None, booster=None,\n",
       "                                    colsample_bylevel=None,\n",
       "                                    colsample_bynode=None,\n",
       "                                    colsample_bytree=None,\n",
       "                                    enable_categorical=False, gamma=None,\n",
       "                                    gpu_id=None, importance_type=None,\n",
       "                                    interaction_constraints=None,\n",
       "                                    learning_rate=None, max_delta_step=None,\n",
       "                                    max_depth=None, min_child_weight=None,\n",
       "                                    missing=nan, monotone_constraints=None,\n",
       "                                    n...\n",
       "                                    random_state=None, reg_alpha=None,\n",
       "                                    reg_lambda=None, scale_pos_weight=None,\n",
       "                                    subsample=None, tree_method=None,\n",
       "                                    validate_parameters=None, verbosity=None),\n",
       "             n_jobs=5,\n",
       "             param_grid={'colsample_bytree': [0.8],\n",
       "                         'learning_rate': [0.08, 0.1, 0.12],\n",
       "                         'max_depth': [5, 7, 9], 'min_child_weight': [4],\n",
       "                         'n_estimators': [800, 1000, 1200], 'nthread': [4],\n",
       "                         'objective': ['reg:linear'], 'silent': [1],\n",
       "                         'subsample': [0.7]},\n",
       "             verbose=True)"
      ]
     },
     "execution_count": 321,
     "metadata": {},
     "output_type": "execute_result"
    }
   ],
   "source": [
    "from sklearn.model_selection import GridSearchCV\n",
    "xgbr_grid = GridSearchCV(xgbr,\n",
    "                        parameters,\n",
    "                        cv = 2,\n",
    "                        n_jobs = 5,\n",
    "                        verbose=True)\n",
    "xgbr_grid.fit(X,y)"
   ]
  },
  {
   "cell_type": "code",
   "execution_count": 322,
   "id": "7e172f16",
   "metadata": {},
   "outputs": [
    {
     "name": "stdout",
     "output_type": "stream",
     "text": [
      "0.8081381419997312\n",
      "{'colsample_bytree': 0.8, 'learning_rate': 0.08, 'max_depth': 5, 'min_child_weight': 4, 'n_estimators': 1200, 'nthread': 4, 'objective': 'reg:linear', 'silent': 1, 'subsample': 0.7}\n"
     ]
    }
   ],
   "source": [
    "print(xgbr_grid.best_score_)\n",
    "print(xgbr_grid.best_params_)"
   ]
  },
  {
   "cell_type": "code",
   "execution_count": 323,
   "id": "c5fe13f6",
   "metadata": {},
   "outputs": [],
   "source": [
    "# With test test"
   ]
  },
  {
   "cell_type": "code",
   "execution_count": 324,
   "id": "9b86c341",
   "metadata": {},
   "outputs": [],
   "source": [
    "xregressor.fit(X, y)\n",
    "pred_test = xregressor.predict(pca_test_df)"
   ]
  },
  {
   "cell_type": "code",
   "execution_count": 327,
   "id": "cd469388",
   "metadata": {},
   "outputs": [
    {
     "data": {
      "text/plain": [
       "array([129.32224 ,  96.76496 ,  78.86558 , ..., 109.15072 ,  88.645164,\n",
       "       106.39267 ], dtype=float32)"
      ]
     },
     "execution_count": 327,
     "metadata": {},
     "output_type": "execute_result"
    }
   ],
   "source": [
    "pred_test"
   ]
  },
  {
   "cell_type": "code",
   "execution_count": null,
   "id": "f548263b",
   "metadata": {},
   "outputs": [],
   "source": []
  }
 ],
 "metadata": {
  "kernelspec": {
   "display_name": "Python 3 (ipykernel)",
   "language": "python",
   "name": "python3"
  },
  "language_info": {
   "codemirror_mode": {
    "name": "ipython",
    "version": 3
   },
   "file_extension": ".py",
   "mimetype": "text/x-python",
   "name": "python",
   "nbconvert_exporter": "python",
   "pygments_lexer": "ipython3",
   "version": "3.9.13"
  }
 },
 "nbformat": 4,
 "nbformat_minor": 5
}
